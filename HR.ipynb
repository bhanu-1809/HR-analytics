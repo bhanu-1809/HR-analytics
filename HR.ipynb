{
 "cells": [
  {
   "cell_type": "code",
   "execution_count": 1,
   "metadata": {},
   "outputs": [],
   "source": [
    "import numpy as np\n",
    "import pandas as pd\n",
    "import matplotlib.pyplot as plt\n",
    "import seaborn as sns"
   ]
  },
  {
   "cell_type": "markdown",
   "metadata": {},
   "source": [
    "# Importing Datasets"
   ]
  },
  {
   "cell_type": "code",
   "execution_count": 2,
   "metadata": {},
   "outputs": [
    {
     "data": {
      "text/html": [
       "<div>\n",
       "<style scoped>\n",
       "    .dataframe tbody tr th:only-of-type {\n",
       "        vertical-align: middle;\n",
       "    }\n",
       "\n",
       "    .dataframe tbody tr th {\n",
       "        vertical-align: top;\n",
       "    }\n",
       "\n",
       "    .dataframe thead th {\n",
       "        text-align: right;\n",
       "    }\n",
       "</style>\n",
       "<table border=\"1\" class=\"dataframe\">\n",
       "  <thead>\n",
       "    <tr style=\"text-align: right;\">\n",
       "      <th></th>\n",
       "      <th>employee_id</th>\n",
       "      <th>department</th>\n",
       "      <th>region</th>\n",
       "      <th>education</th>\n",
       "      <th>gender</th>\n",
       "      <th>recruitment_channel</th>\n",
       "      <th>no_of_trainings</th>\n",
       "      <th>age</th>\n",
       "      <th>previous_year_rating</th>\n",
       "      <th>length_of_service</th>\n",
       "      <th>KPIs_met &gt;80%</th>\n",
       "      <th>awards_won?</th>\n",
       "      <th>avg_training_score</th>\n",
       "      <th>is_promoted</th>\n",
       "    </tr>\n",
       "  </thead>\n",
       "  <tbody>\n",
       "    <tr>\n",
       "      <th>0</th>\n",
       "      <td>65438</td>\n",
       "      <td>Sales &amp; Marketing</td>\n",
       "      <td>region_7</td>\n",
       "      <td>Master's &amp; above</td>\n",
       "      <td>f</td>\n",
       "      <td>sourcing</td>\n",
       "      <td>1</td>\n",
       "      <td>35</td>\n",
       "      <td>5.0</td>\n",
       "      <td>8</td>\n",
       "      <td>1</td>\n",
       "      <td>0</td>\n",
       "      <td>49</td>\n",
       "      <td>0</td>\n",
       "    </tr>\n",
       "    <tr>\n",
       "      <th>1</th>\n",
       "      <td>65141</td>\n",
       "      <td>Operations</td>\n",
       "      <td>region_22</td>\n",
       "      <td>Bachelor's</td>\n",
       "      <td>m</td>\n",
       "      <td>other</td>\n",
       "      <td>1</td>\n",
       "      <td>30</td>\n",
       "      <td>5.0</td>\n",
       "      <td>4</td>\n",
       "      <td>0</td>\n",
       "      <td>0</td>\n",
       "      <td>60</td>\n",
       "      <td>0</td>\n",
       "    </tr>\n",
       "    <tr>\n",
       "      <th>2</th>\n",
       "      <td>7513</td>\n",
       "      <td>Sales &amp; Marketing</td>\n",
       "      <td>region_19</td>\n",
       "      <td>Bachelor's</td>\n",
       "      <td>m</td>\n",
       "      <td>sourcing</td>\n",
       "      <td>1</td>\n",
       "      <td>34</td>\n",
       "      <td>3.0</td>\n",
       "      <td>7</td>\n",
       "      <td>0</td>\n",
       "      <td>0</td>\n",
       "      <td>50</td>\n",
       "      <td>0</td>\n",
       "    </tr>\n",
       "    <tr>\n",
       "      <th>3</th>\n",
       "      <td>2542</td>\n",
       "      <td>Sales &amp; Marketing</td>\n",
       "      <td>region_23</td>\n",
       "      <td>Bachelor's</td>\n",
       "      <td>m</td>\n",
       "      <td>other</td>\n",
       "      <td>2</td>\n",
       "      <td>39</td>\n",
       "      <td>1.0</td>\n",
       "      <td>10</td>\n",
       "      <td>0</td>\n",
       "      <td>0</td>\n",
       "      <td>50</td>\n",
       "      <td>0</td>\n",
       "    </tr>\n",
       "    <tr>\n",
       "      <th>4</th>\n",
       "      <td>48945</td>\n",
       "      <td>Technology</td>\n",
       "      <td>region_26</td>\n",
       "      <td>Bachelor's</td>\n",
       "      <td>m</td>\n",
       "      <td>other</td>\n",
       "      <td>1</td>\n",
       "      <td>45</td>\n",
       "      <td>3.0</td>\n",
       "      <td>2</td>\n",
       "      <td>0</td>\n",
       "      <td>0</td>\n",
       "      <td>73</td>\n",
       "      <td>0</td>\n",
       "    </tr>\n",
       "  </tbody>\n",
       "</table>\n",
       "</div>"
      ],
      "text/plain": [
       "   employee_id         department     region         education gender  \\\n",
       "0        65438  Sales & Marketing   region_7  Master's & above      f   \n",
       "1        65141         Operations  region_22        Bachelor's      m   \n",
       "2         7513  Sales & Marketing  region_19        Bachelor's      m   \n",
       "3         2542  Sales & Marketing  region_23        Bachelor's      m   \n",
       "4        48945         Technology  region_26        Bachelor's      m   \n",
       "\n",
       "  recruitment_channel  no_of_trainings  age  previous_year_rating  \\\n",
       "0            sourcing                1   35                   5.0   \n",
       "1               other                1   30                   5.0   \n",
       "2            sourcing                1   34                   3.0   \n",
       "3               other                2   39                   1.0   \n",
       "4               other                1   45                   3.0   \n",
       "\n",
       "   length_of_service  KPIs_met >80%  awards_won?  avg_training_score  \\\n",
       "0                  8              1            0                  49   \n",
       "1                  4              0            0                  60   \n",
       "2                  7              0            0                  50   \n",
       "3                 10              0            0                  50   \n",
       "4                  2              0            0                  73   \n",
       "\n",
       "   is_promoted  \n",
       "0            0  \n",
       "1            0  \n",
       "2            0  \n",
       "3            0  \n",
       "4            0  "
      ]
     },
     "execution_count": 2,
     "metadata": {},
     "output_type": "execute_result"
    }
   ],
   "source": [
    "train = pd.read_csv('train_hr.csv')\n",
    "test = pd.read_csv('test_hr.csv')\n",
    "train.head()"
   ]
  },
  {
   "cell_type": "code",
   "execution_count": 3,
   "metadata": {},
   "outputs": [
    {
     "name": "stdout",
     "output_type": "stream",
     "text": [
      "<class 'pandas.core.frame.DataFrame'>\n",
      "RangeIndex: 54808 entries, 0 to 54807\n",
      "Data columns (total 14 columns):\n",
      "employee_id             54808 non-null int64\n",
      "department              54808 non-null object\n",
      "region                  54808 non-null object\n",
      "education               52399 non-null object\n",
      "gender                  54808 non-null object\n",
      "recruitment_channel     54808 non-null object\n",
      "no_of_trainings         54808 non-null int64\n",
      "age                     54808 non-null int64\n",
      "previous_year_rating    50684 non-null float64\n",
      "length_of_service       54808 non-null int64\n",
      "KPIs_met >80%           54808 non-null int64\n",
      "awards_won?             54808 non-null int64\n",
      "avg_training_score      54808 non-null int64\n",
      "is_promoted             54808 non-null int64\n",
      "dtypes: float64(1), int64(8), object(5)\n",
      "memory usage: 5.9+ MB\n"
     ]
    }
   ],
   "source": [
    "train.info()"
   ]
  },
  {
   "cell_type": "code",
   "execution_count": 4,
   "metadata": {},
   "outputs": [
    {
     "name": "stdout",
     "output_type": "stream",
     "text": [
      "<class 'pandas.core.frame.DataFrame'>\n",
      "RangeIndex: 23490 entries, 0 to 23489\n",
      "Data columns (total 13 columns):\n",
      "employee_id             23490 non-null int64\n",
      "department              23490 non-null object\n",
      "region                  23490 non-null object\n",
      "education               22456 non-null object\n",
      "gender                  23490 non-null object\n",
      "recruitment_channel     23490 non-null object\n",
      "no_of_trainings         23490 non-null int64\n",
      "age                     23490 non-null int64\n",
      "previous_year_rating    21678 non-null float64\n",
      "length_of_service       23490 non-null int64\n",
      "KPIs_met >80%           23490 non-null int64\n",
      "awards_won?             23490 non-null int64\n",
      "avg_training_score      23490 non-null int64\n",
      "dtypes: float64(1), int64(7), object(5)\n",
      "memory usage: 2.3+ MB\n"
     ]
    }
   ],
   "source": [
    "test.info()"
   ]
  },
  {
   "cell_type": "code",
   "execution_count": 5,
   "metadata": {},
   "outputs": [
    {
     "data": {
      "text/plain": [
       "0    50140\n",
       "1     4668\n",
       "Name: is_promoted, dtype: int64"
      ]
     },
     "execution_count": 5,
     "metadata": {},
     "output_type": "execute_result"
    }
   ],
   "source": [
    "train['is_promoted'].value_counts()"
   ]
  },
  {
   "cell_type": "markdown",
   "metadata": {},
   "source": [
    "# Checking null values in train & test"
   ]
  },
  {
   "cell_type": "code",
   "execution_count": 8,
   "metadata": {},
   "outputs": [
    {
     "data": {
      "text/plain": [
       "employee_id                0\n",
       "department                 0\n",
       "region                     0\n",
       "education               2409\n",
       "gender                     0\n",
       "recruitment_channel        0\n",
       "no_of_trainings            0\n",
       "age                        0\n",
       "previous_year_rating    4124\n",
       "length_of_service          0\n",
       "KPIs_met >80%              0\n",
       "awards_won?                0\n",
       "avg_training_score         0\n",
       "is_promoted                0\n",
       "dtype: int64"
      ]
     },
     "execution_count": 8,
     "metadata": {},
     "output_type": "execute_result"
    }
   ],
   "source": [
    "train.isnull().sum()"
   ]
  },
  {
   "cell_type": "code",
   "execution_count": 9,
   "metadata": {},
   "outputs": [
    {
     "data": {
      "text/plain": [
       "employee_id                0\n",
       "department                 0\n",
       "region                     0\n",
       "education               1034\n",
       "gender                     0\n",
       "recruitment_channel        0\n",
       "no_of_trainings            0\n",
       "age                        0\n",
       "previous_year_rating    1812\n",
       "length_of_service          0\n",
       "KPIs_met >80%              0\n",
       "awards_won?                0\n",
       "avg_training_score         0\n",
       "dtype: int64"
      ]
     },
     "execution_count": 9,
     "metadata": {},
     "output_type": "execute_result"
    }
   ],
   "source": [
    "test.isnull().sum()"
   ]
  },
  {
   "cell_type": "code",
   "execution_count": 10,
   "metadata": {},
   "outputs": [
    {
     "name": "stdout",
     "output_type": "stream",
     "text": [
      "(54808, 14)\n",
      "(23490, 13)\n"
     ]
    }
   ],
   "source": [
    "print(train.shape)\n",
    "print(test.shape)"
   ]
  },
  {
   "cell_type": "code",
   "execution_count": 11,
   "metadata": {},
   "outputs": [
    {
     "data": {
      "text/plain": [
       "employee_id             6148\n",
       "department              6148\n",
       "region                  6148\n",
       "education               3739\n",
       "gender                  6148\n",
       "recruitment_channel     6148\n",
       "no_of_trainings         6148\n",
       "age                     6148\n",
       "previous_year_rating    2024\n",
       "length_of_service       6148\n",
       "KPIs_met >80%           6148\n",
       "awards_won?             6148\n",
       "avg_training_score      6148\n",
       "is_promoted             6148\n",
       "dtype: int64"
      ]
     },
     "execution_count": 11,
     "metadata": {},
     "output_type": "execute_result"
    }
   ],
   "source": [
    "train[train.apply(lambda x:x.isnull().sum(),axis=1)!=0].count()"
   ]
  },
  {
   "cell_type": "code",
   "execution_count": 12,
   "metadata": {},
   "outputs": [
    {
     "data": {
      "text/plain": [
       "employee_id             2671\n",
       "department              2671\n",
       "region                  2671\n",
       "education               1637\n",
       "gender                  2671\n",
       "recruitment_channel     2671\n",
       "no_of_trainings         2671\n",
       "age                     2671\n",
       "previous_year_rating     859\n",
       "length_of_service       2671\n",
       "KPIs_met >80%           2671\n",
       "awards_won?             2671\n",
       "avg_training_score      2671\n",
       "dtype: int64"
      ]
     },
     "execution_count": 12,
     "metadata": {},
     "output_type": "execute_result"
    }
   ],
   "source": [
    "test[test.apply(lambda x:x.isnull().sum(),axis=1)!=0].count()"
   ]
  },
  {
   "cell_type": "code",
   "execution_count": 13,
   "metadata": {},
   "outputs": [
    {
     "data": {
      "image/png": "[encoded data removed]",
      "text/plain": [
       "<Figure size 720x720 with 2 Axes>"
      ]
     },
     "metadata": {
      "needs_background": "light"
     },
     "output_type": "display_data"
    }
   ],
   "source": [
    "plt.figure(figsize=(10,10))\n",
    "sns.heatmap(test.isnull())\n",
    "plt.show()"
   ]
  },
  {
   "cell_type": "code",
   "execution_count": 14,
   "metadata": {},
   "outputs": [
    {
     "data": {
      "image/png": "[encoded data removed]",
      "text/plain": [
       "<Figure size 720x720 with 2 Axes>"
      ]
     },
     "metadata": {
      "needs_background": "light"
     },
     "output_type": "display_data"
    }
   ],
   "source": [
    "plt.figure(figsize=(10,10))\n",
    "sns.heatmap(train.isnull())\n",
    "plt.show()"
   ]
  },
  {
   "cell_type": "markdown",
   "metadata": {},
   "source": [
    "# Replacing null values"
   ]
  },
  {
   "cell_type": "code",
   "execution_count": 15,
   "metadata": {},
   "outputs": [],
   "source": [
    "gen_train=train.groupby('gender')\n",
    "ma_train=gen_train.get_group('m')\n",
    "fe_train=gen_train.get_group('f')"
   ]
  },
  {
   "cell_type": "code",
   "execution_count": 16,
   "metadata": {},
   "outputs": [],
   "source": [
    "g3_train=ma_train['education'].mode()\n",
    "g4_train=fe_train['education'].mode()"
   ]
  },
  {
   "cell_type": "code",
   "execution_count": 17,
   "metadata": {},
   "outputs": [
    {
     "data": {
      "text/plain": [
       "0    Bachelor's\n",
       "dtype: object"
      ]
     },
     "execution_count": 17,
     "metadata": {},
     "output_type": "execute_result"
    }
   ],
   "source": [
    "g3_train"
   ]
  },
  {
   "cell_type": "code",
   "execution_count": 18,
   "metadata": {},
   "outputs": [
    {
     "data": {
      "text/plain": [
       "0    Bachelor's\n",
       "dtype: object"
      ]
     },
     "execution_count": 18,
     "metadata": {},
     "output_type": "execute_result"
    }
   ],
   "source": [
    "g4_train"
   ]
  },
  {
   "cell_type": "code",
   "execution_count": 19,
   "metadata": {},
   "outputs": [],
   "source": [
    "train['education'].replace({np.nan:\"Bachelor's\"},inplace=True)"
   ]
  },
  {
   "cell_type": "code",
   "execution_count": 20,
   "metadata": {},
   "outputs": [
    {
     "name": "stdout",
     "output_type": "stream",
     "text": [
      "<class 'pandas.core.frame.DataFrame'>\n",
      "RangeIndex: 54808 entries, 0 to 54807\n",
      "Data columns (total 14 columns):\n",
      "employee_id             54808 non-null int64\n",
      "department              54808 non-null object\n",
      "region                  54808 non-null object\n",
      "education               54808 non-null object\n",
      "gender                  54808 non-null object\n",
      "recruitment_channel     54808 non-null object\n",
      "no_of_trainings         54808 non-null int64\n",
      "age                     54808 non-null int64\n",
      "previous_year_rating    50684 non-null float64\n",
      "length_of_service       54808 non-null int64\n",
      "KPIs_met >80%           54808 non-null int64\n",
      "awards_won?             54808 non-null int64\n",
      "avg_training_score      54808 non-null int64\n",
      "is_promoted             54808 non-null int64\n",
      "dtypes: float64(1), int64(8), object(5)\n",
      "memory usage: 5.9+ MB\n"
     ]
    }
   ],
   "source": [
    "train.info()"
   ]
  },
  {
   "cell_type": "code",
   "execution_count": 21,
   "metadata": {},
   "outputs": [],
   "source": [
    "gen_test=test.groupby('gender')\n",
    "ma_test=gen_test.get_group('m')\n",
    "fe_test=gen_test.get_group('f')"
   ]
  },
  {
   "cell_type": "code",
   "execution_count": 22,
   "metadata": {},
   "outputs": [],
   "source": [
    "g3_test=ma_test['education'].mode()\n",
    "g4_test=fe_test['education'].mode()"
   ]
  },
  {
   "cell_type": "code",
   "execution_count": 23,
   "metadata": {},
   "outputs": [
    {
     "data": {
      "text/plain": [
       "0    Bachelor's\n",
       "dtype: object"
      ]
     },
     "execution_count": 23,
     "metadata": {},
     "output_type": "execute_result"
    }
   ],
   "source": [
    "g3_test"
   ]
  },
  {
   "cell_type": "code",
   "execution_count": 24,
   "metadata": {},
   "outputs": [
    {
     "data": {
      "text/plain": [
       "0    Bachelor's\n",
       "dtype: object"
      ]
     },
     "execution_count": 24,
     "metadata": {},
     "output_type": "execute_result"
    }
   ],
   "source": [
    "g4_test"
   ]
  },
  {
   "cell_type": "code",
   "execution_count": 25,
   "metadata": {},
   "outputs": [],
   "source": [
    "test['education'].replace({np.nan:\"Bachelor's\"},inplace=True)"
   ]
  },
  {
   "cell_type": "code",
   "execution_count": 26,
   "metadata": {},
   "outputs": [
    {
     "name": "stdout",
     "output_type": "stream",
     "text": [
      "<class 'pandas.core.frame.DataFrame'>\n",
      "RangeIndex: 23490 entries, 0 to 23489\n",
      "Data columns (total 13 columns):\n",
      "employee_id             23490 non-null int64\n",
      "department              23490 non-null object\n",
      "region                  23490 non-null object\n",
      "education               23490 non-null object\n",
      "gender                  23490 non-null object\n",
      "recruitment_channel     23490 non-null object\n",
      "no_of_trainings         23490 non-null int64\n",
      "age                     23490 non-null int64\n",
      "previous_year_rating    21678 non-null float64\n",
      "length_of_service       23490 non-null int64\n",
      "KPIs_met >80%           23490 non-null int64\n",
      "awards_won?             23490 non-null int64\n",
      "avg_training_score      23490 non-null int64\n",
      "dtypes: float64(1), int64(7), object(5)\n",
      "memory usage: 2.3+ MB\n"
     ]
    }
   ],
   "source": [
    "test.info()"
   ]
  },
  {
   "cell_type": "code",
   "execution_count": 27,
   "metadata": {},
   "outputs": [
    {
     "data": {
      "text/plain": [
       "Sales & Marketing    16840\n",
       "Operations           11348\n",
       "Procurement           7138\n",
       "Technology            7138\n",
       "Analytics             5352\n",
       "Finance               2536\n",
       "HR                    2418\n",
       "Legal                 1039\n",
       "R&D                    999\n",
       "Name: department, dtype: int64"
      ]
     },
     "execution_count": 27,
     "metadata": {},
     "output_type": "execute_result"
    }
   ],
   "source": [
    "train['department'].value_counts()"
   ]
  },
  {
   "cell_type": "code",
   "execution_count": 28,
   "metadata": {},
   "outputs": [],
   "source": [
    "pre_train=train.groupby('department')\n",
    "train_1=pre_train.get_group('Sales & Marketing')\n",
    "train_2=pre_train.get_group('Operations')\n",
    "train_3=pre_train.get_group('Technology')\n",
    "train_4=pre_train.get_group('Analytics')\n",
    "train_5=pre_train.get_group('Finance')\n",
    "train_6=pre_train.get_group('HR')\n",
    "train_7=pre_train.get_group('Legal')\n",
    "train_8=pre_train.get_group('R&D')"
   ]
  },
  {
   "cell_type": "code",
   "execution_count": 29,
   "metadata": {},
   "outputs": [],
   "source": [
    "g1_train=train_1['previous_year_rating'].mean()\n",
    "g2_train=train_2['previous_year_rating'].mean()\n",
    "g3_train=train_3['previous_year_rating'].mean()\n",
    "g4_train=train_4['previous_year_rating'].mean()\n",
    "g5_train=train_5['previous_year_rating'].mean()\n",
    "g6_train=train_6['previous_year_rating'].mean()\n",
    "g7_train=train_7['previous_year_rating'].mean()\n",
    "g8_train=train_8['previous_year_rating'].mean()"
   ]
  },
  {
   "cell_type": "code",
   "execution_count": 30,
   "metadata": {},
   "outputs": [
    {
     "name": "stdout",
     "output_type": "stream",
     "text": [
      "3.0679374074312578\n",
      "3.6321561338289965\n",
      "3.1586771844660193\n",
      "3.5573065902578795\n",
      "3.5064358632933867\n",
      "3.4829650092081033\n",
      "3.4052812858783006\n",
      "3.56359649122807\n"
     ]
    }
   ],
   "source": [
    "print(g1_train)\n",
    "print(g2_train)\n",
    "print(g3_train)\n",
    "print(g4_train)\n",
    "print(g5_train)\n",
    "print(g6_train)\n",
    "print(g7_train)\n",
    "print(g8_train)"
   ]
  },
  {
   "cell_type": "code",
   "execution_count": 31,
   "metadata": {},
   "outputs": [
    {
     "data": {
      "text/plain": [
       "3.329255780917055"
      ]
     },
     "execution_count": 31,
     "metadata": {},
     "output_type": "execute_result"
    }
   ],
   "source": [
    "train['previous_year_rating'].mean()"
   ]
  },
  {
   "cell_type": "code",
   "execution_count": 32,
   "metadata": {},
   "outputs": [],
   "source": [
    "train['previous_year_rating'].replace({np.nan:np.mean(train['previous_year_rating'])},inplace=True)"
   ]
  },
  {
   "cell_type": "code",
   "execution_count": 33,
   "metadata": {},
   "outputs": [
    {
     "data": {
      "text/plain": [
       "employee_id             0\n",
       "department              0\n",
       "region                  0\n",
       "education               0\n",
       "gender                  0\n",
       "recruitment_channel     0\n",
       "no_of_trainings         0\n",
       "age                     0\n",
       "previous_year_rating    0\n",
       "length_of_service       0\n",
       "KPIs_met >80%           0\n",
       "awards_won?             0\n",
       "avg_training_score      0\n",
       "is_promoted             0\n",
       "dtype: int64"
      ]
     },
     "execution_count": 33,
     "metadata": {},
     "output_type": "execute_result"
    }
   ],
   "source": [
    "train.isnull().sum()"
   ]
  },
  {
   "cell_type": "code",
   "execution_count": 34,
   "metadata": {},
   "outputs": [],
   "source": [
    "pre_test=test.groupby('department')\n",
    "test_1=pre_test.get_group('Sales & Marketing')\n",
    "test_2=pre_test.get_group('Operations')\n",
    "test_3=pre_test.get_group('Technology')\n",
    "test_4=pre_test.get_group('Analytics')\n",
    "test_5=pre_test.get_group('Finance')\n",
    "test_6=pre_test.get_group('HR')\n",
    "test_7=pre_test.get_group('Legal')\n",
    "test_8=pre_test.get_group('R&D')"
   ]
  },
  {
   "cell_type": "code",
   "execution_count": 35,
   "metadata": {},
   "outputs": [],
   "source": [
    "g1_test=test_1['previous_year_rating'].mean()\n",
    "g2_test=test_2['previous_year_rating'].mean()\n",
    "g3_test=test_3['previous_year_rating'].mean()\n",
    "g4_test=test_4['previous_year_rating'].mean()\n",
    "g5_test=test_5['previous_year_rating'].mean()\n",
    "g6_test=test_6['previous_year_rating'].mean()\n",
    "g7_test=test_7['previous_year_rating'].mean()\n",
    "g8_test=test_8['previous_year_rating'].mean()"
   ]
  },
  {
   "cell_type": "code",
   "execution_count": 36,
   "metadata": {},
   "outputs": [
    {
     "name": "stdout",
     "output_type": "stream",
     "text": [
      "3.090448517359559\n",
      "3.657155496571555\n",
      "3.1518438177874186\n",
      "3.536468330134357\n",
      "3.5364372469635628\n",
      "3.5269582909460833\n",
      "3.4545454545454546\n",
      "3.661654135338346\n"
     ]
    }
   ],
   "source": [
    "print(g1_test)\n",
    "print(g2_test)\n",
    "print(g3_test)\n",
    "print(g4_test)\n",
    "print(g5_test)\n",
    "print(g6_test)\n",
    "print(g7_test)\n",
    "print(g8_test)"
   ]
  },
  {
   "cell_type": "code",
   "execution_count": 37,
   "metadata": {},
   "outputs": [
    {
     "data": {
      "text/plain": [
       "3.339145677645539"
      ]
     },
     "execution_count": 37,
     "metadata": {},
     "output_type": "execute_result"
    }
   ],
   "source": [
    "test['previous_year_rating'].mean()"
   ]
  },
  {
   "cell_type": "code",
   "execution_count": 38,
   "metadata": {},
   "outputs": [],
   "source": [
    "test['previous_year_rating'].replace({np.nan:np.mean(test['previous_year_rating'])},inplace=True)"
   ]
  },
  {
   "cell_type": "code",
   "execution_count": 39,
   "metadata": {},
   "outputs": [
    {
     "name": "stdout",
     "output_type": "stream",
     "text": [
      "<class 'pandas.core.frame.DataFrame'>\n",
      "RangeIndex: 23490 entries, 0 to 23489\n",
      "Data columns (total 13 columns):\n",
      "employee_id             23490 non-null int64\n",
      "department              23490 non-null object\n",
      "region                  23490 non-null object\n",
      "education               23490 non-null object\n",
      "gender                  23490 non-null object\n",
      "recruitment_channel     23490 non-null object\n",
      "no_of_trainings         23490 non-null int64\n",
      "age                     23490 non-null int64\n",
      "previous_year_rating    23490 non-null float64\n",
      "length_of_service       23490 non-null int64\n",
      "KPIs_met >80%           23490 non-null int64\n",
      "awards_won?             23490 non-null int64\n",
      "avg_training_score      23490 non-null int64\n",
      "dtypes: float64(1), int64(7), object(5)\n",
      "memory usage: 2.3+ MB\n"
     ]
    }
   ],
   "source": [
    "test.info()"
   ]
  },
  {
   "cell_type": "code",
   "execution_count": 40,
   "metadata": {},
   "outputs": [
    {
     "data": {
      "text/plain": [
       "employee_id             0\n",
       "department              0\n",
       "region                  0\n",
       "education               0\n",
       "gender                  0\n",
       "recruitment_channel     0\n",
       "no_of_trainings         0\n",
       "age                     0\n",
       "previous_year_rating    0\n",
       "length_of_service       0\n",
       "KPIs_met >80%           0\n",
       "awards_won?             0\n",
       "avg_training_score      0\n",
       "dtype: int64"
      ]
     },
     "execution_count": 40,
     "metadata": {},
     "output_type": "execute_result"
    }
   ],
   "source": [
    "test.isnull().sum()"
   ]
  },
  {
   "cell_type": "markdown",
   "metadata": {},
   "source": [
    "# EDA"
   ]
  },
  {
   "cell_type": "markdown",
   "metadata": {},
   "source": [
    "# Heatmap"
   ]
  },
  {
   "cell_type": "code",
   "execution_count": 41,
   "metadata": {},
   "outputs": [
    {
     "data": {
      "image/png": "[encoded data removed]",
      "text/plain": [
       "<Figure size 720x720 with 2 Axes>"
      ]
     },
     "metadata": {
      "needs_background": "light"
     },
     "output_type": "display_data"
    }
   ],
   "source": [
    "plt.figure(figsize=(10,10))\n",
    "sns.heatmap(train.corr(),annot=True)\n",
    "plt.show()"
   ]
  },
  {
   "cell_type": "markdown",
   "metadata": {},
   "source": [
    "# Here from the heatmap we can see that kpi ratings, awards won and previous year ratings are more correleated with the target variable than other variables"
   ]
  },
  {
   "cell_type": "code",
   "execution_count": 42,
   "metadata": {},
   "outputs": [
    {
     "name": "stdout",
     "output_type": "stream",
     "text": [
      "Sales & Marketing    16840\n",
      "Operations           11348\n",
      "Technology            7138\n",
      "Procurement           7138\n",
      "Analytics             5352\n",
      "Finance               2536\n",
      "HR                    2418\n",
      "Legal                 1039\n",
      "R&D                    999\n",
      "Name: department, dtype: int64\n",
      "region_2     12343\n",
      "region_22     6428\n",
      "region_7      4843\n",
      "region_15     2808\n",
      "region_13     2648\n",
      "region_26     2260\n",
      "region_31     1935\n",
      "region_4      1703\n",
      "region_27     1659\n",
      "region_16     1465\n",
      "region_28     1318\n",
      "region_11     1315\n",
      "region_23     1175\n",
      "region_29      994\n",
      "region_32      945\n",
      "region_19      874\n",
      "region_20      850\n",
      "region_14      827\n",
      "region_25      819\n",
      "region_17      796\n",
      "region_5       766\n",
      "region_6       690\n",
      "region_30      657\n",
      "region_8       655\n",
      "region_10      648\n",
      "region_1       610\n",
      "region_24      508\n",
      "region_12      500\n",
      "region_9       420\n",
      "region_21      411\n",
      "region_3       346\n",
      "region_34      292\n",
      "region_33      269\n",
      "region_18       31\n",
      "Name: region, dtype: int64\n",
      "Bachelor's          39078\n",
      "Master's & above    14925\n",
      "Below Secondary       805\n",
      "Name: education, dtype: int64\n",
      "other       30446\n",
      "sourcing    23220\n",
      "referred     1142\n",
      "Name: recruitment_channel, dtype: int64\n"
     ]
    }
   ],
   "source": [
    "print(train.department.value_counts().sort_values(ascending=False))\n",
    "print(train.region.value_counts().sort_values(ascending=False))\n",
    "print(train.education.value_counts().sort_values(ascending=False))\n",
    "print(train.recruitment_channel.value_counts().sort_values(ascending=False))"
   ]
  },
  {
   "cell_type": "code",
   "execution_count": 43,
   "metadata": {},
   "outputs": [],
   "source": [
    "train['class']='train'\n",
    "test['class']='test'"
   ]
  },
  {
   "cell_type": "code",
   "execution_count": 44,
   "metadata": {},
   "outputs": [
    {
     "name": "stdout",
     "output_type": "stream",
     "text": [
      "(54808, 15)\n",
      "(23490, 14)\n"
     ]
    }
   ],
   "source": [
    "print(train.shape)\n",
    "print(test.shape)"
   ]
  },
  {
   "cell_type": "code",
   "execution_count": 45,
   "metadata": {},
   "outputs": [
    {
     "name": "stderr",
     "output_type": "stream",
     "text": [
      "C:\\ProgramData\\Anaconda3\\lib\\site-packages\\ipykernel_launcher.py:1: FutureWarning: Sorting because non-concatenation axis is not aligned. A future version\n",
      "of pandas will change to not sort by default.\n",
      "\n",
      "To accept the future behavior, pass 'sort=False'.\n",
      "\n",
      "To retain the current behavior and silence the warning, pass 'sort=True'.\n",
      "\n",
      "  \"\"\"Entry point for launching an IPython kernel.\n"
     ]
    }
   ],
   "source": [
    "train_test=pd.concat([train,test])"
   ]
  },
  {
   "cell_type": "code",
   "execution_count": 46,
   "metadata": {},
   "outputs": [
    {
     "data": {
      "text/plain": [
       "(78298, 15)"
      ]
     },
     "execution_count": 46,
     "metadata": {},
     "output_type": "execute_result"
    }
   ],
   "source": [
    "train_test.shape"
   ]
  },
  {
   "cell_type": "code",
   "execution_count": 47,
   "metadata": {},
   "outputs": [],
   "source": [
    "D=pd.get_dummies(train_test,columns=['department','education','recruitment_channel','gender','region'],drop_first=True)"
   ]
  },
  {
   "cell_type": "code",
   "execution_count": 48,
   "metadata": {},
   "outputs": [
    {
     "data": {
      "text/plain": [
       "(78298, 56)"
      ]
     },
     "execution_count": 48,
     "metadata": {},
     "output_type": "execute_result"
    }
   ],
   "source": [
    "D.shape"
   ]
  },
  {
   "cell_type": "code",
   "execution_count": 49,
   "metadata": {},
   "outputs": [
    {
     "name": "stdout",
     "output_type": "stream",
     "text": [
      "<class 'pandas.core.frame.DataFrame'>\n",
      "Int64Index: 78298 entries, 0 to 23489\n",
      "Data columns (total 56 columns):\n",
      "KPIs_met >80%                   78298 non-null int64\n",
      "age                             78298 non-null int64\n",
      "avg_training_score              78298 non-null int64\n",
      "awards_won?                     78298 non-null int64\n",
      "class                           78298 non-null object\n",
      "employee_id                     78298 non-null int64\n",
      "is_promoted                     54808 non-null float64\n",
      "length_of_service               78298 non-null int64\n",
      "no_of_trainings                 78298 non-null int64\n",
      "previous_year_rating            78298 non-null float64\n",
      "department_Finance              78298 non-null uint8\n",
      "department_HR                   78298 non-null uint8\n",
      "department_Legal                78298 non-null uint8\n",
      "department_Operations           78298 non-null uint8\n",
      "department_Procurement          78298 non-null uint8\n",
      "department_R&D                  78298 non-null uint8\n",
      "department_Sales & Marketing    78298 non-null uint8\n",
      "department_Technology           78298 non-null uint8\n",
      "education_Below Secondary       78298 non-null uint8\n",
      "education_Master's & above      78298 non-null uint8\n",
      "recruitment_channel_referred    78298 non-null uint8\n",
      "recruitment_channel_sourcing    78298 non-null uint8\n",
      "gender_m                        78298 non-null uint8\n",
      "region_region_10                78298 non-null uint8\n",
      "region_region_11                78298 non-null uint8\n",
      "region_region_12                78298 non-null uint8\n",
      "region_region_13                78298 non-null uint8\n",
      "region_region_14                78298 non-null uint8\n",
      "region_region_15                78298 non-null uint8\n",
      "region_region_16                78298 non-null uint8\n",
      "region_region_17                78298 non-null uint8\n",
      "region_region_18                78298 non-null uint8\n",
      "region_region_19                78298 non-null uint8\n",
      "region_region_2                 78298 non-null uint8\n",
      "region_region_20                78298 non-null uint8\n",
      "region_region_21                78298 non-null uint8\n",
      "region_region_22                78298 non-null uint8\n",
      "region_region_23                78298 non-null uint8\n",
      "region_region_24                78298 non-null uint8\n",
      "region_region_25                78298 non-null uint8\n",
      "region_region_26                78298 non-null uint8\n",
      "region_region_27                78298 non-null uint8\n",
      "region_region_28                78298 non-null uint8\n",
      "region_region_29                78298 non-null uint8\n",
      "region_region_3                 78298 non-null uint8\n",
      "region_region_30                78298 non-null uint8\n",
      "region_region_31                78298 non-null uint8\n",
      "region_region_32                78298 non-null uint8\n",
      "region_region_33                78298 non-null uint8\n",
      "region_region_34                78298 non-null uint8\n",
      "region_region_4                 78298 non-null uint8\n",
      "region_region_5                 78298 non-null uint8\n",
      "region_region_6                 78298 non-null uint8\n",
      "region_region_7                 78298 non-null uint8\n",
      "region_region_8                 78298 non-null uint8\n",
      "region_region_9                 78298 non-null uint8\n",
      "dtypes: float64(2), int64(7), object(1), uint8(46)\n",
      "memory usage: 10.0+ MB\n"
     ]
    }
   ],
   "source": [
    "D.info()"
   ]
  },
  {
   "cell_type": "code",
   "execution_count": 50,
   "metadata": {},
   "outputs": [],
   "source": [
    "train=D[D['class']=='train']\n",
    "test=D[D['class']=='test']"
   ]
  },
  {
   "cell_type": "code",
   "execution_count": 51,
   "metadata": {},
   "outputs": [],
   "source": [
    "del train['class']"
   ]
  },
  {
   "cell_type": "code",
   "execution_count": 52,
   "metadata": {},
   "outputs": [
    {
     "data": {
      "text/plain": [
       "(54808, 55)"
      ]
     },
     "execution_count": 52,
     "metadata": {},
     "output_type": "execute_result"
    }
   ],
   "source": [
    "train.shape"
   ]
  },
  {
   "cell_type": "code",
   "execution_count": 53,
   "metadata": {},
   "outputs": [],
   "source": [
    "del test['class']"
   ]
  },
  {
   "cell_type": "code",
   "execution_count": 54,
   "metadata": {},
   "outputs": [
    {
     "data": {
      "text/plain": [
       "(23490, 55)"
      ]
     },
     "execution_count": 54,
     "metadata": {},
     "output_type": "execute_result"
    }
   ],
   "source": [
    "test.shape"
   ]
  },
  {
   "cell_type": "code",
   "execution_count": 55,
   "metadata": {},
   "outputs": [
    {
     "data": {
      "text/plain": [
       "0.0    50140\n",
       "1.0     4668\n",
       "dtype: int64"
      ]
     },
     "execution_count": 55,
     "metadata": {},
     "output_type": "execute_result"
    }
   ],
   "source": [
    "pd.value_counts(train['is_promoted'].values)"
   ]
  },
  {
   "cell_type": "code",
   "execution_count": 56,
   "metadata": {},
   "outputs": [
    {
     "name": "stderr",
     "output_type": "stream",
     "text": [
      "C:\\ProgramData\\Anaconda3\\lib\\site-packages\\pandas\\core\\frame.py:3940: SettingWithCopyWarning: \n",
      "A value is trying to be set on a copy of a slice from a DataFrame\n",
      "\n",
      "See the caveats in the documentation: http://pandas.pydata.org/pandas-docs/stable/indexing.html#indexing-view-versus-copy\n",
      "  errors=errors)\n"
     ]
    }
   ],
   "source": [
    "test.drop('is_promoted',axis=1,inplace=True)"
   ]
  },
  {
   "cell_type": "code",
   "execution_count": 57,
   "metadata": {},
   "outputs": [],
   "source": [
    "X=train.drop(['employee_id','is_promoted'],axis=1)\n",
    "y=train['is_promoted']"
   ]
  },
  {
   "cell_type": "code",
   "execution_count": 58,
   "metadata": {},
   "outputs": [],
   "source": [
    "from sklearn.model_selection import train_test_split\n",
    "X_train,X_test,y_train,y_test=train_test_split(X,y,test_size=0.3,random_state=1)"
   ]
  },
  {
   "cell_type": "code",
   "execution_count": 59,
   "metadata": {},
   "outputs": [
    {
     "name": "stdout",
     "output_type": "stream",
     "text": [
      "(38365, 53)\n",
      "(16443, 53)\n"
     ]
    }
   ],
   "source": [
    "print(X_train.shape)\n",
    "print(X_test.shape)"
   ]
  },
  {
   "cell_type": "code",
   "execution_count": 60,
   "metadata": {},
   "outputs": [],
   "source": [
    "from sklearn.preprocessing import LabelEncoder\n",
    "le=LabelEncoder()\n",
    "from sklearn.preprocessing import StandardScaler\n",
    "sc=StandardScaler()"
   ]
  },
  {
   "cell_type": "code",
   "execution_count": 61,
   "metadata": {},
   "outputs": [],
   "source": [
    "Xtrain_scaled=sc.fit_transform(X_train)\n",
    "Xtest_scaled=sc.transform(X_test)"
   ]
  },
  {
   "cell_type": "code",
   "execution_count": 62,
   "metadata": {},
   "outputs": [],
   "source": [
    "testid=test['employee_id']\n",
    "Test=test.drop('employee_id',axis=1)"
   ]
  },
  {
   "cell_type": "code",
   "execution_count": 63,
   "metadata": {},
   "outputs": [
    {
     "data": {
      "text/plain": [
       "(23490, 53)"
      ]
     },
     "execution_count": 63,
     "metadata": {},
     "output_type": "execute_result"
    }
   ],
   "source": [
    "Test.shape"
   ]
  },
  {
   "cell_type": "code",
   "execution_count": 64,
   "metadata": {},
   "outputs": [],
   "source": [
    "Test_scaled=sc.transform(Test)"
   ]
  },
  {
   "cell_type": "markdown",
   "metadata": {},
   "source": [
    "# Logistic Regression"
   ]
  },
  {
   "cell_type": "code",
   "execution_count": 65,
   "metadata": {},
   "outputs": [],
   "source": [
    "from sklearn.linear_model import LogisticRegression\n",
    "lr=LogisticRegression()"
   ]
  },
  {
   "cell_type": "code",
   "execution_count": 66,
   "metadata": {},
   "outputs": [
    {
     "name": "stderr",
     "output_type": "stream",
     "text": [
      "C:\\ProgramData\\Anaconda3\\lib\\site-packages\\sklearn\\linear_model\\logistic.py:432: FutureWarning: Default solver will be changed to 'lbfgs' in 0.22. Specify a solver to silence this warning.\n",
      "  FutureWarning)\n"
     ]
    },
    {
     "data": {
      "text/plain": [
       "LogisticRegression(C=1.0, class_weight=None, dual=False, fit_intercept=True,\n",
       "                   intercept_scaling=1, l1_ratio=None, max_iter=100,\n",
       "                   multi_class='warn', n_jobs=None, penalty='l2',\n",
       "                   random_state=None, solver='warn', tol=0.0001, verbose=0,\n",
       "                   warm_start=False)"
      ]
     },
     "execution_count": 66,
     "metadata": {},
     "output_type": "execute_result"
    }
   ],
   "source": [
    "lr.fit(Xtrain_scaled,y_train)"
   ]
  },
  {
   "cell_type": "code",
   "execution_count": 67,
   "metadata": {},
   "outputs": [
    {
     "name": "stdout",
     "output_type": "stream",
     "text": [
      "0.9316564577088492\n"
     ]
    }
   ],
   "source": [
    "training_score=lr.score(Xtrain_scaled,y_train)\n",
    "print(training_score)"
   ]
  },
  {
   "cell_type": "code",
   "execution_count": 68,
   "metadata": {},
   "outputs": [
    {
     "name": "stdout",
     "output_type": "stream",
     "text": [
      "0.9323116219667944\n"
     ]
    }
   ],
   "source": [
    "testing_score=lr.score(Xtest_scaled,y_test)\n",
    "print(testing_score)"
   ]
  },
  {
   "cell_type": "code",
   "execution_count": 69,
   "metadata": {},
   "outputs": [],
   "source": [
    "y_pred=lr.predict(Xtest_scaled)"
   ]
  },
  {
   "cell_type": "code",
   "execution_count": 70,
   "metadata": {},
   "outputs": [
    {
     "data": {
      "image/png": "[encoded data removed]",
      "text/plain": [
       "<Figure size 432x288 with 2 Axes>"
      ]
     },
     "metadata": {
      "needs_background": "light"
     },
     "output_type": "display_data"
    }
   ],
   "source": [
    "from sklearn.metrics import confusion_matrix\n",
    "ax= plt.subplot()\n",
    "labels = [0,1]\n",
    "cm = confusion_matrix(y_test, y_pred, labels)\n",
    "sns.heatmap(cm, annot=True, ax = ax); #annot=True to annotate cells\n",
    "\n",
    "# labels, title and ticks\n",
    "ax.set_xlabel('Predicted labels');ax.set_ylabel('True labels'); \n",
    "ax.set_title('Confusion Matrix'); \n",
    "ax.xaxis.set_ticklabels([0, 1]); ax.yaxis.set_ticklabels([0, 1]);\n",
    "plt.show()"
   ]
  },
  {
   "cell_type": "code",
   "execution_count": 71,
   "metadata": {},
   "outputs": [],
   "source": [
    "from sklearn.metrics import roc_curve,roc_auc_score"
   ]
  },
  {
   "cell_type": "code",
   "execution_count": 72,
   "metadata": {},
   "outputs": [
    {
     "data": {
      "text/plain": [
       "array([[0.66483338, 0.33516662],\n",
       "       [0.97171916, 0.02828084],\n",
       "       [0.66435989, 0.33564011],\n",
       "       ...,\n",
       "       [0.9779039 , 0.0220961 ],\n",
       "       [0.96357059, 0.03642941],\n",
       "       [0.97754751, 0.02245249]])"
      ]
     },
     "execution_count": 72,
     "metadata": {},
     "output_type": "execute_result"
    }
   ],
   "source": [
    "y_pred_proba=lr.predict_proba(Xtest_scaled)\n",
    "y_pred_proba"
   ]
  },
  {
   "cell_type": "code",
   "execution_count": 73,
   "metadata": {},
   "outputs": [
    {
     "data": {
      "text/plain": [
       "[<matplotlib.lines.Line2D at 0x22e19ccb4e0>]"
      ]
     },
     "execution_count": 73,
     "metadata": {},
     "output_type": "execute_result"
    },
    {
     "data": {
      "image/png": "[encoded data removed]",
      "text/plain": [
       "<Figure size 432x288 with 1 Axes>"
      ]
     },
     "metadata": {
      "needs_background": "light"
     },
     "output_type": "display_data"
    }
   ],
   "source": [
    "fpr,tpr,_=roc_curve(y_test,y_pred_proba[:,1])\n",
    "plt.plot(fpr,tpr)"
   ]
  },
  {
   "cell_type": "code",
   "execution_count": 74,
   "metadata": {},
   "outputs": [
    {
     "data": {
      "text/plain": [
       "0.8767285868888193"
      ]
     },
     "execution_count": 74,
     "metadata": {},
     "output_type": "execute_result"
    }
   ],
   "source": [
    "roc_auc_score(y_test,y_pred_proba[:,1])"
   ]
  },
  {
   "cell_type": "code",
   "execution_count": 75,
   "metadata": {},
   "outputs": [],
   "source": [
    "testid=test['employee_id']"
   ]
  },
  {
   "cell_type": "code",
   "execution_count": 76,
   "metadata": {},
   "outputs": [],
   "source": [
    "Test=test.drop('employee_id',axis=1)"
   ]
  },
  {
   "cell_type": "code",
   "execution_count": 77,
   "metadata": {},
   "outputs": [
    {
     "data": {
      "text/plain": [
       "(23490, 53)"
      ]
     },
     "execution_count": 77,
     "metadata": {},
     "output_type": "execute_result"
    }
   ],
   "source": [
    "Test.shape"
   ]
  },
  {
   "cell_type": "code",
   "execution_count": 78,
   "metadata": {},
   "outputs": [],
   "source": [
    "Test_scaled=sc.transform(Test)"
   ]
  },
  {
   "cell_type": "code",
   "execution_count": 79,
   "metadata": {},
   "outputs": [],
   "source": [
    "Test_pred=lr.predict(Test_scaled)"
   ]
  },
  {
   "cell_type": "code",
   "execution_count": null,
   "metadata": {},
   "outputs": [],
   "source": [
    "#testdf=pd.DataFrame({'employee_id':testid,'is_promoted':Test_pred})"
   ]
  },
  {
   "cell_type": "code",
   "execution_count": null,
   "metadata": {},
   "outputs": [],
   "source": [
    "#testdf.info()"
   ]
  },
  {
   "cell_type": "code",
   "execution_count": null,
   "metadata": {},
   "outputs": [],
   "source": [
    "#testdf['is_promoted']=testdf.is_promoted.astype(int)"
   ]
  },
  {
   "cell_type": "code",
   "execution_count": 317,
   "metadata": {},
   "outputs": [
    {
     "name": "stdout",
     "output_type": "stream",
     "text": [
      "<class 'pandas.core.frame.DataFrame'>\n",
      "Int64Index: 23490 entries, 0 to 23489\n",
      "Data columns (total 2 columns):\n",
      "employee_id    23490 non-null int64\n",
      "is_promoted    23490 non-null int32\n",
      "dtypes: int32(1), int64(1)\n",
      "memory usage: 458.8 KB\n"
     ]
    }
   ],
   "source": [
    "#testdf.info()"
   ]
  },
  {
   "cell_type": "code",
   "execution_count": 318,
   "metadata": {},
   "outputs": [],
   "source": [
    "#testdf.to_csv('lr.csv',index=False)"
   ]
  },
  {
   "cell_type": "code",
   "execution_count": 80,
   "metadata": {},
   "outputs": [
    {
     "name": "stdout",
     "output_type": "stream",
     "text": [
      "Optimization terminated successfully.\n",
      "         Current function value: 0.644810\n",
      "         Iterations 6\n"
     ]
    },
    {
     "data": {
      "text/html": [
       "<table class=\"simpletable\">\n",
       "<caption>Logit Regression Results</caption>\n",
       "<tr>\n",
       "  <th>Dep. Variable:</th>    <td>is_promoted</td>   <th>  No. Observations:  </th>  <td> 38365</td> \n",
       "</tr>\n",
       "<tr>\n",
       "  <th>Model:</th>               <td>Logit</td>      <th>  Df Residuals:      </th>  <td> 38312</td> \n",
       "</tr>\n",
       "<tr>\n",
       "  <th>Method:</th>               <td>MLE</td>       <th>  Df Model:          </th>  <td>    52</td> \n",
       "</tr>\n",
       "<tr>\n",
       "  <th>Date:</th>          <td>Wed, 11 Dec 2019</td> <th>  Pseudo R-squ.:     </th>  <td>-1.207</td> \n",
       "</tr>\n",
       "<tr>\n",
       "  <th>Time:</th>              <td>14:14:14</td>     <th>  Log-Likelihood:    </th> <td> -24738.</td>\n",
       "</tr>\n",
       "<tr>\n",
       "  <th>converged:</th>           <td>True</td>       <th>  LL-Null:           </th> <td> -11209.</td>\n",
       "</tr>\n",
       "<tr>\n",
       "  <th> </th>                      <td> </td>        <th>  LLR p-value:       </th>  <td> 1.000</td> \n",
       "</tr>\n",
       "</table>\n",
       "<table class=\"simpletable\">\n",
       "<tr>\n",
       "   <td></td>      <th>coef</th>     <th>std err</th>      <th>z</th>      <th>P>|z|</th>  <th>[0.025</th>    <th>0.975]</th>  \n",
       "</tr>\n",
       "<tr>\n",
       "  <th>x1</th>  <td>    0.2269</td> <td>    0.012</td> <td>   19.580</td> <td> 0.000</td> <td>    0.204</td> <td>    0.250</td>\n",
       "</tr>\n",
       "<tr>\n",
       "  <th>x2</th>  <td>   -0.0568</td> <td>    0.016</td> <td>   -3.601</td> <td> 0.000</td> <td>   -0.088</td> <td>   -0.026</td>\n",
       "</tr>\n",
       "<tr>\n",
       "  <th>x3</th>  <td>    2.1895</td> <td>    0.050</td> <td>   44.009</td> <td> 0.000</td> <td>    2.092</td> <td>    2.287</td>\n",
       "</tr>\n",
       "<tr>\n",
       "  <th>x4</th>  <td>    0.2010</td> <td>    0.014</td> <td>   13.929</td> <td> 0.000</td> <td>    0.173</td> <td>    0.229</td>\n",
       "</tr>\n",
       "<tr>\n",
       "  <th>x5</th>  <td>    0.0305</td> <td>    0.014</td> <td>    2.136</td> <td> 0.033</td> <td>    0.003</td> <td>    0.059</td>\n",
       "</tr>\n",
       "<tr>\n",
       "  <th>x6</th>  <td>   -0.0187</td> <td>    0.011</td> <td>   -1.698</td> <td> 0.090</td> <td>   -0.040</td> <td>    0.003</td>\n",
       "</tr>\n",
       "<tr>\n",
       "  <th>x7</th>  <td>    0.0819</td> <td>    0.012</td> <td>    7.064</td> <td> 0.000</td> <td>    0.059</td> <td>    0.105</td>\n",
       "</tr>\n",
       "<tr>\n",
       "  <th>x8</th>  <td>    0.8505</td> <td>    0.024</td> <td>   36.127</td> <td> 0.000</td> <td>    0.804</td> <td>    0.897</td>\n",
       "</tr>\n",
       "<tr>\n",
       "  <th>x9</th>  <td>    1.1554</td> <td>    0.030</td> <td>   38.806</td> <td> 0.000</td> <td>    1.097</td> <td>    1.214</td>\n",
       "</tr>\n",
       "<tr>\n",
       "  <th>x10</th> <td>    0.5329</td> <td>    0.017</td> <td>   31.085</td> <td> 0.000</td> <td>    0.499</td> <td>    0.566</td>\n",
       "</tr>\n",
       "<tr>\n",
       "  <th>x11</th> <td>    1.6270</td> <td>    0.041</td> <td>   39.381</td> <td> 0.000</td> <td>    1.546</td> <td>    1.708</td>\n",
       "</tr>\n",
       "<tr>\n",
       "  <th>x12</th> <td>    0.8251</td> <td>    0.024</td> <td>   33.877</td> <td> 0.000</td> <td>    0.777</td> <td>    0.873</td>\n",
       "</tr>\n",
       "<tr>\n",
       "  <th>x13</th> <td>   -0.0215</td> <td>    0.012</td> <td>   -1.866</td> <td> 0.062</td> <td>   -0.044</td> <td>    0.001</td>\n",
       "</tr>\n",
       "<tr>\n",
       "  <th>x14</th> <td>    2.6281</td> <td>    0.063</td> <td>   41.988</td> <td> 0.000</td> <td>    2.505</td> <td>    2.751</td>\n",
       "</tr>\n",
       "<tr>\n",
       "  <th>x15</th> <td>    0.3039</td> <td>    0.017</td> <td>   17.947</td> <td> 0.000</td> <td>    0.271</td> <td>    0.337</td>\n",
       "</tr>\n",
       "<tr>\n",
       "  <th>x16</th> <td>   -0.0068</td> <td>    0.011</td> <td>   -0.609</td> <td> 0.542</td> <td>   -0.029</td> <td>    0.015</td>\n",
       "</tr>\n",
       "<tr>\n",
       "  <th>x17</th> <td>    0.0256</td> <td>    0.012</td> <td>    2.160</td> <td> 0.031</td> <td>    0.002</td> <td>    0.049</td>\n",
       "</tr>\n",
       "<tr>\n",
       "  <th>x18</th> <td>   -0.0016</td> <td>    0.011</td> <td>   -0.143</td> <td> 0.886</td> <td>   -0.023</td> <td>    0.020</td>\n",
       "</tr>\n",
       "<tr>\n",
       "  <th>x19</th> <td>    0.0037</td> <td>    0.011</td> <td>    0.341</td> <td> 0.733</td> <td>   -0.017</td> <td>    0.025</td>\n",
       "</tr>\n",
       "<tr>\n",
       "  <th>x20</th> <td>    0.0068</td> <td>    0.011</td> <td>    0.599</td> <td> 0.549</td> <td>   -0.015</td> <td>    0.029</td>\n",
       "</tr>\n",
       "<tr>\n",
       "  <th>x21</th> <td>    0.0100</td> <td>    0.015</td> <td>    0.655</td> <td> 0.513</td> <td>   -0.020</td> <td>    0.040</td>\n",
       "</tr>\n",
       "<tr>\n",
       "  <th>x22</th> <td>    0.0088</td> <td>    0.019</td> <td>    0.469</td> <td> 0.639</td> <td>   -0.028</td> <td>    0.046</td>\n",
       "</tr>\n",
       "<tr>\n",
       "  <th>x23</th> <td>    0.0081</td> <td>    0.015</td> <td>    0.556</td> <td> 0.579</td> <td>   -0.020</td> <td>    0.036</td>\n",
       "</tr>\n",
       "<tr>\n",
       "  <th>x24</th> <td>    0.0228</td> <td>    0.024</td> <td>    0.939</td> <td> 0.348</td> <td>   -0.025</td> <td>    0.070</td>\n",
       "</tr>\n",
       "<tr>\n",
       "  <th>x25</th> <td>    0.0064</td> <td>    0.016</td> <td>    0.389</td> <td> 0.697</td> <td>   -0.026</td> <td>    0.039</td>\n",
       "</tr>\n",
       "<tr>\n",
       "  <th>x26</th> <td>    0.0183</td> <td>    0.025</td> <td>    0.730</td> <td> 0.465</td> <td>   -0.031</td> <td>    0.067</td>\n",
       "</tr>\n",
       "<tr>\n",
       "  <th>x27</th> <td>    0.0081</td> <td>    0.020</td> <td>    0.410</td> <td> 0.682</td> <td>   -0.030</td> <td>    0.047</td>\n",
       "</tr>\n",
       "<tr>\n",
       "  <th>x28</th> <td>    0.0309</td> <td>    0.016</td> <td>    1.932</td> <td> 0.053</td> <td>   -0.000</td> <td>    0.062</td>\n",
       "</tr>\n",
       "<tr>\n",
       "  <th>x29</th> <td>   -0.0029</td> <td>    0.011</td> <td>   -0.266</td> <td> 0.790</td> <td>   -0.024</td> <td>    0.018</td>\n",
       "</tr>\n",
       "<tr>\n",
       "  <th>x30</th> <td>    0.0048</td> <td>    0.017</td> <td>    0.290</td> <td> 0.772</td> <td>   -0.028</td> <td>    0.038</td>\n",
       "</tr>\n",
       "<tr>\n",
       "  <th>x31</th> <td>    0.0465</td> <td>    0.044</td> <td>    1.050</td> <td> 0.294</td> <td>   -0.040</td> <td>    0.133</td>\n",
       "</tr>\n",
       "<tr>\n",
       "  <th>x32</th> <td>    0.0042</td> <td>    0.017</td> <td>    0.254</td> <td> 0.800</td> <td>   -0.028</td> <td>    0.037</td>\n",
       "</tr>\n",
       "<tr>\n",
       "  <th>x33</th> <td>    0.0003</td> <td>    0.014</td> <td>    0.021</td> <td> 0.983</td> <td>   -0.027</td> <td>    0.027</td>\n",
       "</tr>\n",
       "<tr>\n",
       "  <th>x34</th> <td>    0.0566</td> <td>    0.034</td> <td>    1.643</td> <td> 0.100</td> <td>   -0.011</td> <td>    0.124</td>\n",
       "</tr>\n",
       "<tr>\n",
       "  <th>x35</th> <td>    0.0281</td> <td>    0.018</td> <td>    1.533</td> <td> 0.125</td> <td>   -0.008</td> <td>    0.064</td>\n",
       "</tr>\n",
       "<tr>\n",
       "  <th>x36</th> <td>   -0.0008</td> <td>    0.015</td> <td>   -0.053</td> <td> 0.958</td> <td>   -0.029</td> <td>    0.028</td>\n",
       "</tr>\n",
       "<tr>\n",
       "  <th>x37</th> <td>    0.0267</td> <td>    0.016</td> <td>    1.643</td> <td> 0.100</td> <td>   -0.005</td> <td>    0.058</td>\n",
       "</tr>\n",
       "<tr>\n",
       "  <th>x38</th> <td>    0.0043</td> <td>    0.023</td> <td>    0.188</td> <td> 0.851</td> <td>   -0.040</td> <td>    0.049</td>\n",
       "</tr>\n",
       "<tr>\n",
       "  <th>x39</th> <td>    0.0149</td> <td>    0.020</td> <td>    0.731</td> <td> 0.465</td> <td>   -0.025</td> <td>    0.055</td>\n",
       "</tr>\n",
       "<tr>\n",
       "  <th>x40</th> <td>    0.0293</td> <td>    0.019</td> <td>    1.548</td> <td> 0.122</td> <td>   -0.008</td> <td>    0.066</td>\n",
       "</tr>\n",
       "<tr>\n",
       "  <th>x41</th> <td>   -0.0015</td> <td>    0.017</td> <td>   -0.088</td> <td> 0.930</td> <td>   -0.035</td> <td>    0.032</td>\n",
       "</tr>\n",
       "<tr>\n",
       "  <th>x42</th> <td>    0.0088</td> <td>    0.013</td> <td>    0.660</td> <td> 0.510</td> <td>   -0.017</td> <td>    0.035</td>\n",
       "</tr>\n",
       "<tr>\n",
       "  <th>x43</th> <td>    0.0164</td> <td>    0.015</td> <td>    1.066</td> <td> 0.286</td> <td>   -0.014</td> <td>    0.047</td>\n",
       "</tr>\n",
       "<tr>\n",
       "  <th>x44</th> <td>    0.0003</td> <td>    0.021</td> <td>    0.014</td> <td> 0.989</td> <td>   -0.042</td> <td>    0.042</td>\n",
       "</tr>\n",
       "<tr>\n",
       "  <th>x45</th> <td>   -0.0018</td> <td>    0.017</td> <td>   -0.104</td> <td> 0.917</td> <td>   -0.035</td> <td>    0.031</td>\n",
       "</tr>\n",
       "<tr>\n",
       "  <th>x46</th> <td>    0.0017</td> <td>    0.013</td> <td>    0.134</td> <td> 0.893</td> <td>   -0.023</td> <td>    0.027</td>\n",
       "</tr>\n",
       "<tr>\n",
       "  <th>x47</th> <td>   -0.0047</td> <td>    0.013</td> <td>   -0.364</td> <td> 0.716</td> <td>   -0.030</td> <td>    0.021</td>\n",
       "</tr>\n",
       "<tr>\n",
       "  <th>x48</th> <td>    0.0543</td> <td>    0.021</td> <td>    2.621</td> <td> 0.009</td> <td>    0.014</td> <td>    0.095</td>\n",
       "</tr>\n",
       "<tr>\n",
       "  <th>x49</th> <td>   -0.0009</td> <td>    0.016</td> <td>   -0.057</td> <td> 0.954</td> <td>   -0.033</td> <td>    0.031</td>\n",
       "</tr>\n",
       "<tr>\n",
       "  <th>x50</th> <td>   -0.0026</td> <td>    0.016</td> <td>   -0.169</td> <td> 0.866</td> <td>   -0.033</td> <td>    0.028</td>\n",
       "</tr>\n",
       "<tr>\n",
       "  <th>x51</th> <td>    0.0509</td> <td>    0.031</td> <td>    1.654</td> <td> 0.098</td> <td>   -0.009</td> <td>    0.111</td>\n",
       "</tr>\n",
       "<tr>\n",
       "  <th>x52</th> <td>    0.0037</td> <td>    0.015</td> <td>    0.243</td> <td> 0.808</td> <td>   -0.026</td> <td>    0.034</td>\n",
       "</tr>\n",
       "<tr>\n",
       "  <th>x53</th> <td>   -0.0088</td> <td>    0.014</td> <td>   -0.631</td> <td> 0.528</td> <td>   -0.036</td> <td>    0.018</td>\n",
       "</tr>\n",
       "</table>"
      ],
      "text/plain": [
       "<class 'statsmodels.iolib.summary.Summary'>\n",
       "\"\"\"\n",
       "                           Logit Regression Results                           \n",
       "==============================================================================\n",
       "Dep. Variable:            is_promoted   No. Observations:                38365\n",
       "Model:                          Logit   Df Residuals:                    38312\n",
       "Method:                           MLE   Df Model:                           52\n",
       "Date:                Wed, 11 Dec 2019   Pseudo R-squ.:                  -1.207\n",
       "Time:                        14:14:14   Log-Likelihood:                -24738.\n",
       "converged:                       True   LL-Null:                       -11209.\n",
       "                                        LLR p-value:                     1.000\n",
       "==============================================================================\n",
       "                 coef    std err          z      P>|z|      [0.025      0.975]\n",
       "------------------------------------------------------------------------------\n",
       "x1             0.2269      0.012     19.580      0.000       0.204       0.250\n",
       "x2            -0.0568      0.016     -3.601      0.000      -0.088      -0.026\n",
       "x3             2.1895      0.050     44.009      0.000       2.092       2.287\n",
       "x4             0.2010      0.014     13.929      0.000       0.173       0.229\n",
       "x5             0.0305      0.014      2.136      0.033       0.003       0.059\n",
       "x6            -0.0187      0.011     -1.698      0.090      -0.040       0.003\n",
       "x7             0.0819      0.012      7.064      0.000       0.059       0.105\n",
       "x8             0.8505      0.024     36.127      0.000       0.804       0.897\n",
       "x9             1.1554      0.030     38.806      0.000       1.097       1.214\n",
       "x10            0.5329      0.017     31.085      0.000       0.499       0.566\n",
       "x11            1.6270      0.041     39.381      0.000       1.546       1.708\n",
       "x12            0.8251      0.024     33.877      0.000       0.777       0.873\n",
       "x13           -0.0215      0.012     -1.866      0.062      -0.044       0.001\n",
       "x14            2.6281      0.063     41.988      0.000       2.505       2.751\n",
       "x15            0.3039      0.017     17.947      0.000       0.271       0.337\n",
       "x16           -0.0068      0.011     -0.609      0.542      -0.029       0.015\n",
       "x17            0.0256      0.012      2.160      0.031       0.002       0.049\n",
       "x18           -0.0016      0.011     -0.143      0.886      -0.023       0.020\n",
       "x19            0.0037      0.011      0.341      0.733      -0.017       0.025\n",
       "x20            0.0068      0.011      0.599      0.549      -0.015       0.029\n",
       "x21            0.0100      0.015      0.655      0.513      -0.020       0.040\n",
       "x22            0.0088      0.019      0.469      0.639      -0.028       0.046\n",
       "x23            0.0081      0.015      0.556      0.579      -0.020       0.036\n",
       "x24            0.0228      0.024      0.939      0.348      -0.025       0.070\n",
       "x25            0.0064      0.016      0.389      0.697      -0.026       0.039\n",
       "x26            0.0183      0.025      0.730      0.465      -0.031       0.067\n",
       "x27            0.0081      0.020      0.410      0.682      -0.030       0.047\n",
       "x28            0.0309      0.016      1.932      0.053      -0.000       0.062\n",
       "x29           -0.0029      0.011     -0.266      0.790      -0.024       0.018\n",
       "x30            0.0048      0.017      0.290      0.772      -0.028       0.038\n",
       "x31            0.0465      0.044      1.050      0.294      -0.040       0.133\n",
       "x32            0.0042      0.017      0.254      0.800      -0.028       0.037\n",
       "x33            0.0003      0.014      0.021      0.983      -0.027       0.027\n",
       "x34            0.0566      0.034      1.643      0.100      -0.011       0.124\n",
       "x35            0.0281      0.018      1.533      0.125      -0.008       0.064\n",
       "x36           -0.0008      0.015     -0.053      0.958      -0.029       0.028\n",
       "x37            0.0267      0.016      1.643      0.100      -0.005       0.058\n",
       "x38            0.0043      0.023      0.188      0.851      -0.040       0.049\n",
       "x39            0.0149      0.020      0.731      0.465      -0.025       0.055\n",
       "x40            0.0293      0.019      1.548      0.122      -0.008       0.066\n",
       "x41           -0.0015      0.017     -0.088      0.930      -0.035       0.032\n",
       "x42            0.0088      0.013      0.660      0.510      -0.017       0.035\n",
       "x43            0.0164      0.015      1.066      0.286      -0.014       0.047\n",
       "x44            0.0003      0.021      0.014      0.989      -0.042       0.042\n",
       "x45           -0.0018      0.017     -0.104      0.917      -0.035       0.031\n",
       "x46            0.0017      0.013      0.134      0.893      -0.023       0.027\n",
       "x47           -0.0047      0.013     -0.364      0.716      -0.030       0.021\n",
       "x48            0.0543      0.021      2.621      0.009       0.014       0.095\n",
       "x49           -0.0009      0.016     -0.057      0.954      -0.033       0.031\n",
       "x50           -0.0026      0.016     -0.169      0.866      -0.033       0.028\n",
       "x51            0.0509      0.031      1.654      0.098      -0.009       0.111\n",
       "x52            0.0037      0.015      0.243      0.808      -0.026       0.034\n",
       "x53           -0.0088      0.014     -0.631      0.528      -0.036       0.018\n",
       "==============================================================================\n",
       "\"\"\""
      ]
     },
     "execution_count": 80,
     "metadata": {},
     "output_type": "execute_result"
    }
   ],
   "source": [
    "import statsmodels.api as sm\n",
    "logit_model=sm.Logit(y_train,Xtrain_scaled)\n",
    "result=logit_model.fit()\n",
    "result.summary()"
   ]
  },
  {
   "cell_type": "code",
   "execution_count": 81,
   "metadata": {},
   "outputs": [
    {
     "data": {
      "text/plain": [
       "(38365, 53)"
      ]
     },
     "execution_count": 81,
     "metadata": {},
     "output_type": "execute_result"
    }
   ],
   "source": [
    "Xtrain_scaled.shape"
   ]
  },
  {
   "cell_type": "code",
   "execution_count": 82,
   "metadata": {},
   "outputs": [],
   "source": [
    "traindf=pd.DataFrame(Xtrain_scaled)"
   ]
  },
  {
   "cell_type": "code",
   "execution_count": 83,
   "metadata": {},
   "outputs": [
    {
     "data": {
      "text/html": [
       "<div>\n",
       "<style scoped>\n",
       "    .dataframe tbody tr th:only-of-type {\n",
       "        vertical-align: middle;\n",
       "    }\n",
       "\n",
       "    .dataframe tbody tr th {\n",
       "        vertical-align: top;\n",
       "    }\n",
       "\n",
       "    .dataframe thead th {\n",
       "        text-align: right;\n",
       "    }\n",
       "</style>\n",
       "<table border=\"1\" class=\"dataframe\">\n",
       "  <thead>\n",
       "    <tr style=\"text-align: right;\">\n",
       "      <th></th>\n",
       "      <th>0</th>\n",
       "      <th>1</th>\n",
       "      <th>2</th>\n",
       "      <th>3</th>\n",
       "      <th>4</th>\n",
       "      <th>5</th>\n",
       "      <th>6</th>\n",
       "      <th>7</th>\n",
       "      <th>8</th>\n",
       "      <th>9</th>\n",
       "      <th>...</th>\n",
       "      <th>43</th>\n",
       "      <th>44</th>\n",
       "      <th>45</th>\n",
       "      <th>46</th>\n",
       "      <th>47</th>\n",
       "      <th>48</th>\n",
       "      <th>49</th>\n",
       "      <th>50</th>\n",
       "      <th>51</th>\n",
       "      <th>52</th>\n",
       "    </tr>\n",
       "  </thead>\n",
       "  <tbody>\n",
       "    <tr>\n",
       "      <th>0</th>\n",
       "      <td>1.356063</td>\n",
       "      <td>-0.757764</td>\n",
       "      <td>-0.852680</td>\n",
       "      <td>-0.154196</td>\n",
       "      <td>-1.140312</td>\n",
       "      <td>-0.413952</td>\n",
       "      <td>-0.001434</td>\n",
       "      <td>-0.224062</td>\n",
       "      <td>4.608750</td>\n",
       "      <td>-0.13859</td>\n",
       "      <td>...</td>\n",
       "      <td>-0.188987</td>\n",
       "      <td>-0.131075</td>\n",
       "      <td>-0.070548</td>\n",
       "      <td>-0.072208</td>\n",
       "      <td>-0.179844</td>\n",
       "      <td>-0.120934</td>\n",
       "      <td>-0.111607</td>\n",
       "      <td>3.216712</td>\n",
       "      <td>-0.108943</td>\n",
       "      <td>-0.087877</td>\n",
       "    </tr>\n",
       "    <tr>\n",
       "      <th>1</th>\n",
       "      <td>1.356063</td>\n",
       "      <td>1.202367</td>\n",
       "      <td>-1.226829</td>\n",
       "      <td>-0.154196</td>\n",
       "      <td>1.204951</td>\n",
       "      <td>-0.413952</td>\n",
       "      <td>1.375751</td>\n",
       "      <td>-0.224062</td>\n",
       "      <td>-0.216979</td>\n",
       "      <td>-0.13859</td>\n",
       "      <td>...</td>\n",
       "      <td>-0.188987</td>\n",
       "      <td>-0.131075</td>\n",
       "      <td>-0.070548</td>\n",
       "      <td>-0.072208</td>\n",
       "      <td>-0.179844</td>\n",
       "      <td>-0.120934</td>\n",
       "      <td>-0.111607</td>\n",
       "      <td>-0.310876</td>\n",
       "      <td>-0.108943</td>\n",
       "      <td>-0.087877</td>\n",
       "    </tr>\n",
       "    <tr>\n",
       "      <th>2</th>\n",
       "      <td>-0.737429</td>\n",
       "      <td>-0.627089</td>\n",
       "      <td>-1.002340</td>\n",
       "      <td>-0.154196</td>\n",
       "      <td>-0.671259</td>\n",
       "      <td>-0.413952</td>\n",
       "      <td>-0.272838</td>\n",
       "      <td>-0.224062</td>\n",
       "      <td>-0.216979</td>\n",
       "      <td>-0.13859</td>\n",
       "      <td>...</td>\n",
       "      <td>-0.188987</td>\n",
       "      <td>7.629236</td>\n",
       "      <td>-0.070548</td>\n",
       "      <td>-0.072208</td>\n",
       "      <td>-0.179844</td>\n",
       "      <td>-0.120934</td>\n",
       "      <td>-0.111607</td>\n",
       "      <td>-0.310876</td>\n",
       "      <td>-0.108943</td>\n",
       "      <td>-0.087877</td>\n",
       "    </tr>\n",
       "    <tr>\n",
       "      <th>3</th>\n",
       "      <td>1.356063</td>\n",
       "      <td>1.202367</td>\n",
       "      <td>0.868407</td>\n",
       "      <td>-0.154196</td>\n",
       "      <td>2.143057</td>\n",
       "      <td>-0.413952</td>\n",
       "      <td>1.375751</td>\n",
       "      <td>-0.224062</td>\n",
       "      <td>-0.216979</td>\n",
       "      <td>-0.13859</td>\n",
       "      <td>...</td>\n",
       "      <td>-0.188987</td>\n",
       "      <td>-0.131075</td>\n",
       "      <td>-0.070548</td>\n",
       "      <td>-0.072208</td>\n",
       "      <td>-0.179844</td>\n",
       "      <td>-0.120934</td>\n",
       "      <td>-0.111607</td>\n",
       "      <td>-0.310876</td>\n",
       "      <td>-0.108943</td>\n",
       "      <td>-0.087877</td>\n",
       "    </tr>\n",
       "    <tr>\n",
       "      <th>4</th>\n",
       "      <td>-0.737429</td>\n",
       "      <td>-0.104387</td>\n",
       "      <td>-0.179211</td>\n",
       "      <td>-0.154196</td>\n",
       "      <td>0.266846</td>\n",
       "      <td>-0.413952</td>\n",
       "      <td>-0.272838</td>\n",
       "      <td>-0.224062</td>\n",
       "      <td>-0.216979</td>\n",
       "      <td>-0.13859</td>\n",
       "      <td>...</td>\n",
       "      <td>-0.188987</td>\n",
       "      <td>-0.131075</td>\n",
       "      <td>-0.070548</td>\n",
       "      <td>-0.072208</td>\n",
       "      <td>-0.179844</td>\n",
       "      <td>-0.120934</td>\n",
       "      <td>-0.111607</td>\n",
       "      <td>3.216712</td>\n",
       "      <td>-0.108943</td>\n",
       "      <td>-0.087877</td>\n",
       "    </tr>\n",
       "  </tbody>\n",
       "</table>\n",
       "<p>5 rows × 53 columns</p>\n",
       "</div>"
      ],
      "text/plain": [
       "         0         1         2         3         4         5         6   \\\n",
       "0  1.356063 -0.757764 -0.852680 -0.154196 -1.140312 -0.413952 -0.001434   \n",
       "1  1.356063  1.202367 -1.226829 -0.154196  1.204951 -0.413952  1.375751   \n",
       "2 -0.737429 -0.627089 -1.002340 -0.154196 -0.671259 -0.413952 -0.272838   \n",
       "3  1.356063  1.202367  0.868407 -0.154196  2.143057 -0.413952  1.375751   \n",
       "4 -0.737429 -0.104387 -0.179211 -0.154196  0.266846 -0.413952 -0.272838   \n",
       "\n",
       "         7         8        9   ...        43        44        45        46  \\\n",
       "0 -0.224062  4.608750 -0.13859  ... -0.188987 -0.131075 -0.070548 -0.072208   \n",
       "1 -0.224062 -0.216979 -0.13859  ... -0.188987 -0.131075 -0.070548 -0.072208   \n",
       "2 -0.224062 -0.216979 -0.13859  ... -0.188987  7.629236 -0.070548 -0.072208   \n",
       "3 -0.224062 -0.216979 -0.13859  ... -0.188987 -0.131075 -0.070548 -0.072208   \n",
       "4 -0.224062 -0.216979 -0.13859  ... -0.188987 -0.131075 -0.070548 -0.072208   \n",
       "\n",
       "         47        48        49        50        51        52  \n",
       "0 -0.179844 -0.120934 -0.111607  3.216712 -0.108943 -0.087877  \n",
       "1 -0.179844 -0.120934 -0.111607 -0.310876 -0.108943 -0.087877  \n",
       "2 -0.179844 -0.120934 -0.111607 -0.310876 -0.108943 -0.087877  \n",
       "3 -0.179844 -0.120934 -0.111607 -0.310876 -0.108943 -0.087877  \n",
       "4 -0.179844 -0.120934 -0.111607  3.216712 -0.108943 -0.087877  \n",
       "\n",
       "[5 rows x 53 columns]"
      ]
     },
     "execution_count": 83,
     "metadata": {},
     "output_type": "execute_result"
    }
   ],
   "source": [
    "traindf.head()"
   ]
  },
  {
   "cell_type": "markdown",
   "metadata": {},
   "source": [
    "# DecisionTree"
   ]
  },
  {
   "cell_type": "code",
   "execution_count": 360,
   "metadata": {},
   "outputs": [],
   "source": [
    "from sklearn.tree import DecisionTreeClassifier\n",
    "dt=DecisionTreeClassifier(max_depth=3)\n",
    "dt_model=dt.fit(Xtrain_scaled,y_train)"
   ]
  },
  {
   "cell_type": "code",
   "execution_count": 361,
   "metadata": {},
   "outputs": [],
   "source": [
    "train_pred_dt= dt_model.predict(Xtrain_scaled)\n",
    "test_pred_dt= dt_model.predict(Xtest_scaled)"
   ]
  },
  {
   "cell_type": "code",
   "execution_count": 362,
   "metadata": {},
   "outputs": [
    {
     "name": "stdout",
     "output_type": "stream",
     "text": [
      "[[15038    20]\n",
      " [ 1231   154]]\n",
      "[[35044    38]\n",
      " [ 2929   354]]\n"
     ]
    }
   ],
   "source": [
    "confusion_matrix_test_dt = confusion_matrix(y_test,test_pred_dt)\n",
    "confusion_matrix_train_dt = confusion_matrix(y_train,train_pred_dt)\n",
    "\n",
    "print(confusion_matrix_test_dt)\n",
    "\n",
    "print(confusion_matrix_train_dt)"
   ]
  },
  {
   "cell_type": "code",
   "execution_count": 363,
   "metadata": {},
   "outputs": [
    {
     "data": {
      "image/png": "[encoded data removed]",
      "text/plain": [
       "<Figure size 432x288 with 2 Axes>"
      ]
     },
     "metadata": {
      "needs_background": "light"
     },
     "output_type": "display_data"
    }
   ],
   "source": [
    "from sklearn.metrics import confusion_matrix\n",
    "ax= plt.subplot()\n",
    "labels = [0,1]\n",
    "cm = confusion_matrix(y_test, test_pred_dt, labels)\n",
    "sns.heatmap(cm, annot=True, ax = ax); #annot=True to annotate cells\n",
    "\n",
    "# labels, title and ticks\n",
    "ax.set_xlabel('Predicted labels');ax.set_ylabel('True labels'); \n",
    "ax.set_title('Confusion Matrix'); \n",
    "ax.xaxis.set_ticklabels([0, 1]); ax.yaxis.set_ticklabels([0, 1]);\n",
    "plt.show()"
   ]
  },
  {
   "cell_type": "code",
   "execution_count": 364,
   "metadata": {},
   "outputs": [
    {
     "name": "stdout",
     "output_type": "stream",
     "text": [
      "TNR_train 0.9989168234422211\n",
      "TPR_train 0.10782820590922937\n",
      "Training_Accuracy 0.9226638863547504\n"
     ]
    }
   ],
   "source": [
    "accuracy_train_dt = (confusion_matrix_train_dt[0,0]+confusion_matrix_train_dt[1,1])/(confusion_matrix_train_dt[0,0]+confusion_matrix_train_dt[0,1]+confusion_matrix_train_dt[1,0]+confusion_matrix_train_dt[1,1])\n",
    "\n",
    "tnr_train_dt = confusion_matrix_train_dt[0,0]/(confusion_matrix_train_dt[0,0]+confusion_matrix_train_dt[0,1])\n",
    "\n",
    "tpr_train_dt = confusion_matrix_train_dt[1,1]/(confusion_matrix_train_dt[1,0]+confusion_matrix_train_dt[1,1])\n",
    "\n",
    "print('TNR_train',tnr_train_dt)\n",
    "print('TPR_train',tpr_train_dt)\n",
    "print('Training_Accuracy',accuracy_train_dt)"
   ]
  },
  {
   "cell_type": "code",
   "execution_count": 365,
   "metadata": {},
   "outputs": [
    {
     "name": "stdout",
     "output_type": "stream",
     "text": [
      "TNR_test 0.9986718023641918\n",
      "TPR_test 0.1111913357400722\n",
      "Test_Accuracy 0.9239189928845101\n"
     ]
    }
   ],
   "source": [
    "accuracy_test_dt = (confusion_matrix_test_dt[0,0]+confusion_matrix_test_dt[1,1])/(confusion_matrix_test_dt[0,0]+confusion_matrix_test_dt[0,1]+confusion_matrix_test_dt[1,0]+confusion_matrix_test_dt[1,1])\n",
    "\n",
    "tnr_test_dt = confusion_matrix_test_dt[0,0]/(confusion_matrix_test_dt[0,0]+confusion_matrix_test_dt[0,1])\n",
    "\n",
    "tpr_test_dt = confusion_matrix_test_dt[1,1]/(confusion_matrix_test_dt[1,0]+confusion_matrix_test_dt[1,1])\n",
    "\n",
    "print('TNR_test',tnr_test_dt)\n",
    "print('TPR_test',tpr_test_dt)\n",
    "print('Test_Accuracy',accuracy_test_dt)"
   ]
  },
  {
   "cell_type": "code",
   "execution_count": 366,
   "metadata": {},
   "outputs": [
    {
     "name": "stdout",
     "output_type": "stream",
     "text": [
      "              precision    recall  f1-score   support\n",
      "\n",
      "         0.0       0.92      1.00      0.96     15058\n",
      "         1.0       0.89      0.11      0.20      1385\n",
      "\n",
      "   micro avg       0.92      0.92      0.92     16443\n",
      "   macro avg       0.90      0.55      0.58     16443\n",
      "weighted avg       0.92      0.92      0.90     16443\n",
      "\n"
     ]
    }
   ],
   "source": [
    "from sklearn.metrics import classification_report,confusion_matrix,accuracy_score,auc\n",
    "print(classification_report(y_test,test_pred_dt))"
   ]
  },
  {
   "cell_type": "code",
   "execution_count": 367,
   "metadata": {},
   "outputs": [],
   "source": [
    "train_pred_prob_dt = dt_model.predict_proba(Xtrain_scaled)"
   ]
  },
  {
   "cell_type": "code",
   "execution_count": 368,
   "metadata": {},
   "outputs": [
    {
     "data": {
      "text/plain": [
       "array([0.15347063, 0.15347063, 0.02959476, ..., 0.15347063, 0.15347063,\n",
       "       0.02959476])"
      ]
     },
     "execution_count": 368,
     "metadata": {},
     "output_type": "execute_result"
    }
   ],
   "source": [
    "train_pred_prob_dt = train_pred_prob_dt[:,1]\n",
    "\n",
    "train_pred_prob_dt"
   ]
  },
  {
   "cell_type": "code",
   "execution_count": 369,
   "metadata": {},
   "outputs": [
    {
     "data": {
      "text/plain": [
       "array([0.15347063, 0.15347063, 0.15347063, ..., 0.02959476, 0.15347063,\n",
       "       0.02959476])"
      ]
     },
     "execution_count": 369,
     "metadata": {},
     "output_type": "execute_result"
    }
   ],
   "source": [
    "test_pred_prob_dt = dt_model.predict_proba(Xtest_scaled)\n",
    "\n",
    "test_pred_prob_dt = test_pred_prob_dt[:,1]\n",
    "\n",
    "test_pred_prob_dt"
   ]
  },
  {
   "cell_type": "code",
   "execution_count": 370,
   "metadata": {},
   "outputs": [],
   "source": [
    "fpr,tpr,thresholds= roc_curve(y_train,train_pred_prob_dt)\n",
    "roc_auc_dt_train = auc(fpr,tpr)"
   ]
  },
  {
   "cell_type": "code",
   "execution_count": 371,
   "metadata": {},
   "outputs": [
    {
     "data": {
      "image/png": "[encoded data removed]",
      "text/plain": [
       "<Figure size 432x288 with 1 Axes>"
      ]
     },
     "metadata": {
      "needs_background": "light"
     },
     "output_type": "display_data"
    }
   ],
   "source": [
    "plt.figure()\n",
    "lw=2\n",
    "plt.plot(fpr,tpr,color = 'green',lw=lw,label='ROC curve (area = %0.2f)' % roc_auc_dt_train)\n",
    "plt.plot([0,1],[0,1],color = 'navy', lw=lw, linestyle='--')\n",
    "plt.xlim([0.0,1.0])\n",
    "plt.ylim([0.0,1.05])\n",
    "plt.xlabel(\"FPR\")\n",
    "plt.ylabel(\"TPR\")\n",
    "plt.title(\"Receiver operating characteristic exapmle\")\n",
    "plt.legend(loc='lower right')\n",
    "plt.show()"
   ]
  },
  {
   "cell_type": "code",
   "execution_count": 372,
   "metadata": {},
   "outputs": [],
   "source": [
    "fpr,tpr,thresholds= roc_curve(y_test,test_pred_prob_dt)\n",
    "roc_auc_dt_test = auc(fpr,tpr)"
   ]
  },
  {
   "cell_type": "code",
   "execution_count": 373,
   "metadata": {},
   "outputs": [
    {
     "data": {
      "image/png": "[encoded data removed]",
      "text/plain": [
       "<Figure size 432x288 with 1 Axes>"
      ]
     },
     "metadata": {
      "needs_background": "light"
     },
     "output_type": "display_data"
    }
   ],
   "source": [
    "plt.figure()\n",
    "lw=2\n",
    "plt.plot(fpr,tpr,color = 'green',lw=lw,label='ROC curve (area = %0.2f)' % roc_auc_dt_test)\n",
    "plt.plot([0,1],[0,1],color = 'navy', lw=lw, linestyle='--')\n",
    "plt.xlim([0.0,1.0])\n",
    "plt.ylim([0.0,1.05])\n",
    "plt.xlabel(\"FPR\")\n",
    "plt.ylabel(\"TPR\")\n",
    "plt.title(\"Receiver operating characteristic exapmle\")\n",
    "plt.legend(loc='lower right')\n",
    "plt.show()"
   ]
  },
  {
   "cell_type": "code",
   "execution_count": 342,
   "metadata": {},
   "outputs": [
    {
     "name": "stdout",
     "output_type": "stream",
     "text": [
      "<class 'pandas.core.frame.DataFrame'>\n",
      "Int64Index: 23490 entries, 0 to 23489\n",
      "Data columns (total 2 columns):\n",
      "employee_id    23490 non-null int64\n",
      "is_promoted    23490 non-null float64\n",
      "dtypes: float64(1), int64(1)\n",
      "memory usage: 550.5 KB\n"
     ]
    }
   ],
   "source": [
    "Test_pred_dt=dt.predict(Test_scaled)\n",
    "\n",
    "testdf_dt=pd.DataFrame({'employee_id':testid,'is_promoted':Test_pred_dt})\n",
    "\n",
    "testdf_dt.info()"
   ]
  },
  {
   "cell_type": "code",
   "execution_count": 343,
   "metadata": {},
   "outputs": [
    {
     "name": "stdout",
     "output_type": "stream",
     "text": [
      "<class 'pandas.core.frame.DataFrame'>\n",
      "Int64Index: 23490 entries, 0 to 23489\n",
      "Data columns (total 2 columns):\n",
      "employee_id    23490 non-null int64\n",
      "is_promoted    23490 non-null int32\n",
      "dtypes: int32(1), int64(1)\n",
      "memory usage: 458.8 KB\n"
     ]
    }
   ],
   "source": [
    "testdf_dt['is_promoted']=testdf_dt.is_promoted.astype(int)\n",
    "\n",
    "testdf_dt.info()"
   ]
  },
  {
   "cell_type": "code",
   "execution_count": 344,
   "metadata": {},
   "outputs": [],
   "source": [
    "testdf_dt.to_csv('dt.csv',index=False)"
   ]
  },
  {
   "cell_type": "markdown",
   "metadata": {},
   "source": [
    "# KNN"
   ]
  },
  {
   "cell_type": "code",
   "execution_count": 345,
   "metadata": {},
   "outputs": [],
   "source": [
    "from sklearn.neighbors import KNeighborsClassifier"
   ]
  },
  {
   "cell_type": "code",
   "execution_count": 346,
   "metadata": {},
   "outputs": [],
   "source": [
    "knn=KNeighborsClassifier()"
   ]
  },
  {
   "cell_type": "code",
   "execution_count": 347,
   "metadata": {},
   "outputs": [],
   "source": [
    "param_grids_knn={'n_neighbors':[3,5,7],'metric':['euclidean','manhattan','minkowski']}"
   ]
  },
  {
   "cell_type": "code",
   "execution_count": null,
   "metadata": {},
   "outputs": [],
   "source": []
  },
  {
   "cell_type": "markdown",
   "metadata": {},
   "source": [
    "# GRADIENT BOOSTING"
   ]
  },
  {
   "cell_type": "code",
   "execution_count": 349,
   "metadata": {},
   "outputs": [],
   "source": [
    "from sklearn.ensemble import GradientBoostingClassifier\n",
    "gradient=GradientBoostingClassifier(n_estimators=100,learning_rate=0.01)\n",
    "gradient_model=gradient.fit(Xtrain_scaled,y_train)"
   ]
  },
  {
   "cell_type": "code",
   "execution_count": 350,
   "metadata": {},
   "outputs": [],
   "source": [
    "train_pred_gd = gradient_model.predict(Xtrain_scaled)\n",
    "test_pred_gd = gradient_model.predict(Xtest_scaled)"
   ]
  },
  {
   "cell_type": "code",
   "execution_count": 351,
   "metadata": {},
   "outputs": [
    {
     "name": "stdout",
     "output_type": "stream",
     "text": [
      "              precision    recall  f1-score   support\n",
      "\n",
      "         0.0       0.92      1.00      0.96     15058\n",
      "         1.0       0.95      0.10      0.19      1385\n",
      "\n",
      "   micro avg       0.92      0.92      0.92     16443\n",
      "   macro avg       0.94      0.55      0.57     16443\n",
      "weighted avg       0.93      0.92      0.89     16443\n",
      "\n"
     ]
    }
   ],
   "source": [
    "from sklearn.metrics import classification_report,confusion_matrix,accuracy_score\n",
    "print(classification_report(y_test,test_pred_gd))"
   ]
  },
  {
   "cell_type": "code",
   "execution_count": 352,
   "metadata": {},
   "outputs": [],
   "source": [
    "confusion_matrix_test_gd = confusion_matrix(y_test,test_pred_gd)\n",
    "confusion_matrix_train_gd= confusion_matrix(y_train,train_pred_gd)"
   ]
  },
  {
   "cell_type": "code",
   "execution_count": 353,
   "metadata": {},
   "outputs": [
    {
     "name": "stdout",
     "output_type": "stream",
     "text": [
      "Train Accuracy = 0.9228463443242538\n",
      "Train TNR = 0.9995439256598826\n",
      "Train TPR = 0.10325921413341456\n",
      "\n",
      "Test Accuracy = 0.9239798090372803\n",
      "Test TNR = 0.9995351308274671\n",
      "Test TPR = 0.10252707581227437\n"
     ]
    }
   ],
   "source": [
    "accuracy_train_gd= (confusion_matrix_train_gd[0,0]+confusion_matrix_train_gd[1,1])/confusion_matrix_train_gd.sum()\n",
    "tnr_train_gd= confusion_matrix_train_gd[0,0]/(confusion_matrix_train_gd[0,0]+confusion_matrix_train_gd[0,1])\n",
    "tpr_train_gd= confusion_matrix_train_gd[1,1]/(confusion_matrix_train_gd[1,0]+confusion_matrix_train_gd[1,1])\n",
    "\n",
    "print('Train Accuracy =', accuracy_train_gd)\n",
    "print('Train TNR =', tnr_train_gd)\n",
    "print('Train TPR =', tpr_train_gd)\n",
    "\n",
    "accuracy_test_gd= (confusion_matrix_test_gd[0,0]+confusion_matrix_test_gd[1,1])/confusion_matrix_test_gd.sum()\n",
    "tnr_test_gd= confusion_matrix_test_gd[0,0]/(confusion_matrix_test_gd[0,0]+confusion_matrix_test_gd[0,1])\n",
    "tpr_test_gd= confusion_matrix_test_gd[1,1]/(confusion_matrix_test_gd[1,0]+confusion_matrix_test_gd[1,1])\n",
    "\n",
    "print('\\nTest Accuracy =', accuracy_test_gd)\n",
    "print('Test TNR =', tnr_test_gd)\n",
    "print('Test TPR =', tpr_test_gd)"
   ]
  },
  {
   "cell_type": "code",
   "execution_count": 354,
   "metadata": {},
   "outputs": [
    {
     "name": "stdout",
     "output_type": "stream",
     "text": [
      "ROC Area under curve = 0.8097550122678472\n"
     ]
    }
   ],
   "source": [
    "test_pred_prob_gd = gradient_model.predict_proba(Xtest_scaled)\n",
    "test_pred_prob_gd = test_pred_prob_gd[:,1]\n",
    "\n",
    "fpr_gd,tpr_gd,thresh_gd = roc_curve(y_test,test_pred_prob_gd)\n",
    "roc_auc_gd = auc(fpr_gd, tpr_gd)\n",
    "print('ROC Area under curve =', roc_auc_gd)"
   ]
  },
  {
   "cell_type": "code",
   "execution_count": 356,
   "metadata": {},
   "outputs": [
    {
     "data": {
      "image/png": "[encoded data removed]",
      "text/plain": [
       "<Figure size 432x288 with 1 Axes>"
      ]
     },
     "metadata": {
      "needs_background": "light"
     },
     "output_type": "display_data"
    }
   ],
   "source": [
    "plt.figure()\n",
    "lw = 2\n",
    "plt.plot(fpr_gd,tpr_gd,color='darkorange',lw=lw,label='ROC Curve (area = %0.2f)'%roc_auc_gd)\n",
    "plt.plot([0,1],[0,1],color='navy',lw=lw,linestyle='--')\n",
    "plt.xlim([0.0, 1.0])\n",
    "\n",
    "plt.ylim([0.0, 1.05])\n",
    "plt.xlabel('FPR')\n",
    "plt.ylabel('TPR')\n",
    "plt.title('ROC Curve')\n",
    "plt.legend()\n",
    "plt.show()"
   ]
  },
  {
   "cell_type": "code",
   "execution_count": 357,
   "metadata": {},
   "outputs": [
    {
     "name": "stdout",
     "output_type": "stream",
     "text": [
      "<class 'pandas.core.frame.DataFrame'>\n",
      "Int64Index: 23490 entries, 0 to 23489\n",
      "Data columns (total 2 columns):\n",
      "employee_id    23490 non-null int64\n",
      "is_promoted    23490 non-null float64\n",
      "dtypes: float64(1), int64(1)\n",
      "memory usage: 550.5 KB\n"
     ]
    }
   ],
   "source": [
    "Test_pred_gd=gradient_model.predict(Test_scaled)\n",
    "\n",
    "testdf_gd=pd.DataFrame({'employee_id':testid,'is_promoted':Test_pred_gd})\n",
    "\n",
    "testdf_gd.info()"
   ]
  },
  {
   "cell_type": "code",
   "execution_count": 358,
   "metadata": {},
   "outputs": [
    {
     "name": "stdout",
     "output_type": "stream",
     "text": [
      "<class 'pandas.core.frame.DataFrame'>\n",
      "Int64Index: 23490 entries, 0 to 23489\n",
      "Data columns (total 2 columns):\n",
      "employee_id    23490 non-null int64\n",
      "is_promoted    23490 non-null int32\n",
      "dtypes: int32(1), int64(1)\n",
      "memory usage: 458.8 KB\n"
     ]
    }
   ],
   "source": [
    "testdf_gd['is_promoted']=testdf_gd.is_promoted.astype(int)\n",
    "\n",
    "testdf_gd.info()"
   ]
  },
  {
   "cell_type": "code",
   "execution_count": 359,
   "metadata": {},
   "outputs": [],
   "source": [
    "testdf_gd.to_csv('gd.csv',index=False)"
   ]
  },
  {
   "cell_type": "markdown",
   "metadata": {},
   "source": [
    "# Adaboosting"
   ]
  },
  {
   "cell_type": "code",
   "execution_count": 374,
   "metadata": {},
   "outputs": [],
   "source": [
    "from sklearn.ensemble import AdaBoostClassifier\n",
    "model=DecisionTreeClassifier()\n",
    "Adaboost=AdaBoostClassifier(base_estimator=model,n_estimators=100,learning_rate=1)\n",
    "model2=Adaboost.fit(Xtrain_scaled,y_train)\n"
   ]
  },
  {
   "cell_type": "code",
   "execution_count": 375,
   "metadata": {},
   "outputs": [],
   "source": [
    "train_pred_ad = model2.predict(Xtrain_scaled)\n",
    "test_pred_ad = model2.predict(Xtest_scaled)"
   ]
  },
  {
   "cell_type": "code",
   "execution_count": 376,
   "metadata": {},
   "outputs": [
    {
     "name": "stdout",
     "output_type": "stream",
     "text": [
      "              precision    recall  f1-score   support\n",
      "\n",
      "         0.0       0.94      0.98      0.96     15058\n",
      "         1.0       0.61      0.35      0.45      1385\n",
      "\n",
      "   micro avg       0.93      0.93      0.93     16443\n",
      "   macro avg       0.78      0.66      0.70     16443\n",
      "weighted avg       0.91      0.93      0.92     16443\n",
      "\n"
     ]
    }
   ],
   "source": [
    "from sklearn.metrics import classification_report,confusion_matrix,accuracy_score\n",
    "print(classification_report(y_test,test_pred_ad))"
   ]
  },
  {
   "cell_type": "code",
   "execution_count": 377,
   "metadata": {},
   "outputs": [
    {
     "name": "stdout",
     "output_type": "stream",
     "text": [
      "ROC Area under curve = 0.760406332577811\n"
     ]
    }
   ],
   "source": [
    "test_pred_prob_ad = model2.predict_proba(Xtest_scaled)\n",
    "test_pred_prob_ad = test_pred_prob_ad[:,1]\n",
    "\n",
    "fpr_ad,tpr_ad,thresh_ad = roc_curve(y_test,test_pred_prob_ad)\n",
    "roc_auc_ad = auc(fpr_ad, tpr_ad)\n",
    "print('ROC Area under curve =', roc_auc_ad)"
   ]
  },
  {
   "cell_type": "code",
   "execution_count": 379,
   "metadata": {},
   "outputs": [
    {
     "data": {
      "image/png": "[encoded data removed]",
      "text/plain": [
       "<Figure size 432x288 with 1 Axes>"
      ]
     },
     "metadata": {
      "needs_background": "light"
     },
     "output_type": "display_data"
    }
   ],
   "source": [
    "plt.figure()\n",
    "lw = 2\n",
    "plt.plot(fpr_ad,tpr_ad,color='darkorange',lw=lw,label='ROC Curve (area = %0.2f)'%roc_auc_ad)\n",
    "plt.plot([0,1],[0,1],color='navy',lw=lw,linestyle='--')\n",
    "plt.xlim([0.0, 1.0])\n",
    "\n",
    "plt.ylim([0.0, 1.05])\n",
    "plt.xlabel('FPR')\n",
    "plt.ylabel('TPR')\n",
    "plt.title('ROC Curve')\n",
    "plt.legend()\n",
    "plt.show()"
   ]
  },
  {
   "cell_type": "code",
   "execution_count": 380,
   "metadata": {},
   "outputs": [
    {
     "name": "stdout",
     "output_type": "stream",
     "text": [
      "<class 'pandas.core.frame.DataFrame'>\n",
      "Int64Index: 23490 entries, 0 to 23489\n",
      "Data columns (total 2 columns):\n",
      "employee_id    23490 non-null int64\n",
      "is_promoted    23490 non-null float64\n",
      "dtypes: float64(1), int64(1)\n",
      "memory usage: 550.5 KB\n"
     ]
    }
   ],
   "source": [
    "Test_pred_ad=model2.predict(Test_scaled)\n",
    "\n",
    "testdf_ad=pd.DataFrame({'employee_id':testid,'is_promoted':Test_pred_ad})\n",
    "\n",
    "testdf_ad.info()"
   ]
  },
  {
   "cell_type": "code",
   "execution_count": 381,
   "metadata": {},
   "outputs": [
    {
     "name": "stdout",
     "output_type": "stream",
     "text": [
      "<class 'pandas.core.frame.DataFrame'>\n",
      "Int64Index: 23490 entries, 0 to 23489\n",
      "Data columns (total 2 columns):\n",
      "employee_id    23490 non-null int64\n",
      "is_promoted    23490 non-null int32\n",
      "dtypes: int32(1), int64(1)\n",
      "memory usage: 458.8 KB\n"
     ]
    }
   ],
   "source": [
    "testdf_ad['is_promoted']=testdf_ad.is_promoted.astype(int)\n",
    "\n",
    "testdf_ad.info()\n",
    "\n",
    "testdf_ad.to_csv('ad.csv',index=False)"
   ]
  },
  {
   "cell_type": "markdown",
   "metadata": {},
   "source": [
    "# Gaussian NB"
   ]
  },
  {
   "cell_type": "code",
   "execution_count": 387,
   "metadata": {},
   "outputs": [
    {
     "data": {
      "text/plain": [
       "GaussianNB(priors=None, var_smoothing=1e-09)"
      ]
     },
     "execution_count": 387,
     "metadata": {},
     "output_type": "execute_result"
    }
   ],
   "source": [
    "from sklearn.naive_bayes import GaussianNB\n",
    "model=GaussianNB()\n",
    "model.fit(Xtrain_scaled,y_train)"
   ]
  },
  {
   "cell_type": "code",
   "execution_count": 388,
   "metadata": {},
   "outputs": [],
   "source": [
    "train_pred_N = model.predict(Xtrain_scaled)\n",
    "test_pred_N = model.predict(Xtest_scaled)"
   ]
  },
  {
   "cell_type": "code",
   "execution_count": 389,
   "metadata": {},
   "outputs": [
    {
     "name": "stdout",
     "output_type": "stream",
     "text": [
      "              precision    recall  f1-score   support\n",
      "\n",
      "         0.0       0.93      0.96      0.94     15058\n",
      "         1.0       0.30      0.19      0.24      1385\n",
      "\n",
      "   micro avg       0.89      0.89      0.89     16443\n",
      "   macro avg       0.62      0.58      0.59     16443\n",
      "weighted avg       0.88      0.89      0.88     16443\n",
      "\n"
     ]
    }
   ],
   "source": [
    "print(classification_report(y_test,test_pred_N))"
   ]
  },
  {
   "cell_type": "code",
   "execution_count": 390,
   "metadata": {},
   "outputs": [
    {
     "name": "stdout",
     "output_type": "stream",
     "text": [
      "Train Accuracy = 0.8935488075068422\n",
      "Train TNR = 0.9578986374779089\n",
      "Train TPR = 0.20590922936338715\n",
      "\n",
      "Test Accuracy = 0.8943623426382047\n",
      "Test TNR = 0.9586930535263647\n",
      "Test TPR = 0.19494584837545126\n"
     ]
    }
   ],
   "source": [
    "confusion_matrix_test_N = confusion_matrix(y_test,test_pred_N)\n",
    "confusion_matrix_train_N= confusion_matrix(y_train,train_pred_N)\n",
    "\n",
    "accuracy_train_N= (confusion_matrix_train_N[0,0]+confusion_matrix_train_N[1,1])/confusion_matrix_train_N.sum()\n",
    "tnr_train_N= confusion_matrix_train_N[0,0]/(confusion_matrix_train_N[0,0]+confusion_matrix_train_N[0,1])\n",
    "tpr_train_N= confusion_matrix_train_N[1,1]/(confusion_matrix_train_N[1,0]+confusion_matrix_train_N[1,1])\n",
    "\n",
    "print('Train Accuracy =', accuracy_train_N)\n",
    "print('Train TNR =', tnr_train_N)\n",
    "print('Train TPR =', tpr_train_N)\n",
    "\n",
    "accuracy_test_N= (confusion_matrix_test_N[0,0]+confusion_matrix_test_N[1,1])/confusion_matrix_test_N.sum()\n",
    "tnr_test_N= confusion_matrix_test_N[0,0]/(confusion_matrix_test_N[0,0]+confusion_matrix_test_N[0,1])\n",
    "tpr_test_N= confusion_matrix_test_N[1,1]/(confusion_matrix_test_N[1,0]+confusion_matrix_test_N[1,1])\n",
    "\n",
    "print('\\nTest Accuracy =', accuracy_test_N)\n",
    "print('Test TNR =', tnr_test_N)\n",
    "print('Test TPR =', tpr_test_N)"
   ]
  },
  {
   "cell_type": "code",
   "execution_count": 391,
   "metadata": {},
   "outputs": [
    {
     "name": "stdout",
     "output_type": "stream",
     "text": [
      "ROC Area under curve = 0.7477046874827681\n"
     ]
    }
   ],
   "source": [
    "test_pred_prob_N = model.predict_proba(Xtest_scaled)\n",
    "test_pred_prob_N = test_pred_prob_N[:,1]\n",
    "\n",
    "fpr_N,tpr_N,thresh_N = roc_curve(y_test,test_pred_prob_N)\n",
    "roc_auc_N = auc(fpr_N, tpr_N)\n",
    "print('ROC Area under curve =', roc_auc_N)"
   ]
  },
  {
   "cell_type": "code",
   "execution_count": 392,
   "metadata": {},
   "outputs": [
    {
     "data": {
      "image/png": "[encoded data removed]",
      "text/plain": [
       "<Figure size 432x288 with 1 Axes>"
      ]
     },
     "metadata": {
      "needs_background": "light"
     },
     "output_type": "display_data"
    }
   ],
   "source": [
    "plt.figure()\n",
    "lw = 2\n",
    "plt.plot(fpr_N,tpr_N,color='darkorange',lw=lw,label='ROC Curve (area = %0.2f)'%roc_auc_N)\n",
    "plt.plot([0,1],[0,1],color='navy',lw=lw,linestyle='--')\n",
    "plt.xlim([0.0, 1.0])\n",
    "\n",
    "plt.ylim([0.0, 1.05])\n",
    "plt.xlabel('FPR')\n",
    "plt.ylabel('TPR')\n",
    "plt.title('ROC Curve')\n",
    "plt.legend()\n",
    "plt.show()"
   ]
  },
  {
   "cell_type": "code",
   "execution_count": 393,
   "metadata": {},
   "outputs": [
    {
     "name": "stdout",
     "output_type": "stream",
     "text": [
      "<class 'pandas.core.frame.DataFrame'>\n",
      "Int64Index: 23490 entries, 0 to 23489\n",
      "Data columns (total 2 columns):\n",
      "employee_id    23490 non-null int64\n",
      "is_promoted    23490 non-null float64\n",
      "dtypes: float64(1), int64(1)\n",
      "memory usage: 550.5 KB\n"
     ]
    }
   ],
   "source": [
    "Test_pred_N=model.predict(Test_scaled)\n",
    "\n",
    "testdf_N=pd.DataFrame({'employee_id':testid,'is_promoted':Test_pred_N})\n",
    "\n",
    "testdf_N.info()"
   ]
  },
  {
   "cell_type": "code",
   "execution_count": 394,
   "metadata": {},
   "outputs": [
    {
     "name": "stdout",
     "output_type": "stream",
     "text": [
      "<class 'pandas.core.frame.DataFrame'>\n",
      "Int64Index: 23490 entries, 0 to 23489\n",
      "Data columns (total 2 columns):\n",
      "employee_id    23490 non-null int64\n",
      "is_promoted    23490 non-null int32\n",
      "dtypes: int32(1), int64(1)\n",
      "memory usage: 458.8 KB\n"
     ]
    }
   ],
   "source": [
    "testdf_N['is_promoted']=testdf_N.is_promoted.astype(int)\n",
    "\n",
    "testdf_N.info()\n",
    "\n",
    "testdf_N.to_csv('N.csv',index=False)"
   ]
  },
  {
   "cell_type": "markdown",
   "metadata": {},
   "source": [
    "# LIGHT GBM"
   ]
  },
  {
   "cell_type": "code",
   "execution_count": 288,
   "metadata": {},
   "outputs": [],
   "source": [
    "import lightgbm as LGBM\n",
    "from lightgbm import LGBMClassifier"
   ]
  },
  {
   "cell_type": "code",
   "execution_count": 289,
   "metadata": {},
   "outputs": [
    {
     "data": {
      "text/plain": [
       "LGBMClassifier(boosting_type='gbdt', class_weight=None, colsample_bytree=1.0,\n",
       "        importance_type='split', learning_rate=0.1, max_depth=-1,\n",
       "        min_child_samples=20, min_child_weight=0.001, min_split_gain=0.0,\n",
       "        n_estimators=100, n_jobs=-1, num_leaves=31, objective=None,\n",
       "        random_state=None, reg_alpha=0.0, reg_lambda=0.0, silent=True,\n",
       "        subsample=1.0, subsample_for_bin=200000, subsample_freq=0)"
      ]
     },
     "execution_count": 289,
     "metadata": {},
     "output_type": "execute_result"
    }
   ],
   "source": [
    "lgbm=LGBMClassifier()\n",
    "lgbm.fit(Xtrain_scaled,y_train)"
   ]
  },
  {
   "cell_type": "code",
   "execution_count": 290,
   "metadata": {},
   "outputs": [],
   "source": [
    "train_pred_lgbm = lgbm.predict(Xtrain_scaled)\n",
    "test_pred_lgbm = lgbm.predict(Xtest_scaled)"
   ]
  },
  {
   "cell_type": "code",
   "execution_count": 308,
   "metadata": {},
   "outputs": [
    {
     "name": "stdout",
     "output_type": "stream",
     "text": [
      "              precision    recall  f1-score   support\n",
      "\n",
      "         0.0       0.94      1.00      0.97     15058\n",
      "         1.0       0.94      0.36      0.52      1385\n",
      "\n",
      "   micro avg       0.94      0.94      0.94     16443\n",
      "   macro avg       0.94      0.68      0.74     16443\n",
      "weighted avg       0.94      0.94      0.93     16443\n",
      "\n"
     ]
    }
   ],
   "source": [
    "from sklearn.metrics import classification_report,confusion_matrix,accuracy_score,auc,roc_curve\n",
    "print(classification_report(y_test,test_pred_lgbm))"
   ]
  },
  {
   "cell_type": "code",
   "execution_count": 309,
   "metadata": {},
   "outputs": [],
   "source": [
    "confusion_matrix_test_lgbm = confusion_matrix(y_test,test_pred_lgbm)\n",
    "confusion_matrix_train_lgbm = confusion_matrix(y_train,train_pred_lgbm)"
   ]
  },
  {
   "cell_type": "code",
   "execution_count": 310,
   "metadata": {},
   "outputs": [],
   "source": [
    "accuracy_train_lgbm= (confusion_matrix_train_lgbm[0,0]+confusion_matrix_train_lgbm[1,1])/confusion_matrix_train_lgbm.sum()\n",
    "tnr_train_lgbm= confusion_matrix_train_lgbm[0,0]/(confusion_matrix_train_lgbm[0,0]+confusion_matrix_train_lgbm[0,1])\n",
    "tpr_train_lgbm= confusion_matrix_train_lgbm[1,1]/(confusion_matrix_train_lgbm[1,0]+confusion_matrix_train_lgbm[1,1])"
   ]
  },
  {
   "cell_type": "code",
   "execution_count": 311,
   "metadata": {},
   "outputs": [
    {
     "name": "stdout",
     "output_type": "stream",
     "text": [
      "Train Accuracy = 0.9439332725140102\n",
      "Train TNR = 0.9990023373809931\n",
      "Train TPR = 0.3554675601583917\n"
     ]
    }
   ],
   "source": [
    "print('Train Accuracy =', accuracy_train_lgbm)\n",
    "print('Train TNR =', tnr_train_lgbm)\n",
    "print('Train TPR =', tpr_train_lgbm)"
   ]
  },
  {
   "cell_type": "code",
   "execution_count": 312,
   "metadata": {},
   "outputs": [],
   "source": [
    "accuracy_test_lgbm= (confusion_matrix_test_lgbm[0,0]+confusion_matrix_test_lgbm[1,1])/confusion_matrix_test_lgbm.sum()\n",
    "tnr_test_lgbm= confusion_matrix_test_lgbm[0,0]/(confusion_matrix_test_lgbm[0,0]+confusion_matrix_test_lgbm[0,1])\n",
    "tpr_test_lgbm= confusion_matrix_test_lgbm[1,1]/(confusion_matrix_test_lgbm[1,0]+confusion_matrix_test_lgbm[1,1])"
   ]
  },
  {
   "cell_type": "code",
   "execution_count": 313,
   "metadata": {},
   "outputs": [
    {
     "name": "stdout",
     "output_type": "stream",
     "text": [
      "\n",
      "Test Accuracy = 0.9439883232986681\n",
      "Test TNR = 0.9980741134280781\n",
      "Test TPR = 0.355956678700361\n"
     ]
    }
   ],
   "source": [
    "print('\\nTest Accuracy =', accuracy_test_lgbm)\n",
    "print('Test TNR =', tnr_test_lgbm)\n",
    "print('Test TPR =', tpr_test_lgbm)"
   ]
  },
  {
   "cell_type": "code",
   "execution_count": 314,
   "metadata": {},
   "outputs": [],
   "source": [
    "test_pred_prob_lgbm = lgbm.predict_proba(Xtest_scaled)\n",
    "test_pred_prob_lgbm = test_pred_prob_lgbm[:,1]"
   ]
  },
  {
   "cell_type": "code",
   "execution_count": 315,
   "metadata": {},
   "outputs": [
    {
     "name": "stdout",
     "output_type": "stream",
     "text": [
      "ROC Area under curve = 0.9124057495134338\n"
     ]
    }
   ],
   "source": [
    "fpr_lgbm,tpr_lgbm,thresh_lgbm = roc_curve(y_test,test_pred_prob_lgbm)\n",
    "roc_auc_lgbm = auc(fpr_lgbm, tpr_lgbm)\n",
    "print('ROC Area under curve =', roc_auc_lgbm)"
   ]
  },
  {
   "cell_type": "code",
   "execution_count": 322,
   "metadata": {},
   "outputs": [
    {
     "data": {
      "image/png": "[encoded data removed]",
      "text/plain": [
       "<Figure size 432x288 with 1 Axes>"
      ]
     },
     "metadata": {},
     "output_type": "display_data"
    }
   ],
   "source": [
    "plt.figure()\n",
    "lw = 2\n",
    "plt.plot(fpr_lgbm,tpr_lgbm,color='darkorange',lw=lw,label='ROC Curve (area = %0.2f)'%roc_auc_lgbm)\n",
    "plt.plot([0,1],[0,1],color='navy',lw=lw,linestyle='--')\n",
    "plt.xlim([0.0, 1.0])\n",
    "\n",
    "plt.ylim([0.0, 1.05])\n",
    "plt.xlabel('FPR')\n",
    "plt.ylabel('TPR')\n",
    "plt.title('ROC Curve')\n",
    "plt.legend()\n",
    "plt.show()"
   ]
  },
  {
   "cell_type": "code",
   "execution_count": 318,
   "metadata": {},
   "outputs": [],
   "source": [
    "Test_pred_lgbm=lgbm.predict(Test_scaled)\n",
    "\n",
    "testdf_lgbm=pd.DataFrame({'employee_id':testid,'is_promoted':Test_pred_lgbm})"
   ]
  },
  {
   "cell_type": "code",
   "execution_count": 319,
   "metadata": {},
   "outputs": [
    {
     "name": "stdout",
     "output_type": "stream",
     "text": [
      "<class 'pandas.core.frame.DataFrame'>\n",
      "Int64Index: 23490 entries, 0 to 23489\n",
      "Data columns (total 2 columns):\n",
      "employee_id    23490 non-null int64\n",
      "is_promoted    23490 non-null float64\n",
      "dtypes: float64(1), int64(1)\n",
      "memory usage: 550.5 KB\n"
     ]
    }
   ],
   "source": [
    "testdf_lgbm.info()"
   ]
  },
  {
   "cell_type": "code",
   "execution_count": 320,
   "metadata": {},
   "outputs": [],
   "source": [
    "testdf_lgbm['is_promoted']=testdf_lgbm.is_promoted.astype(int)"
   ]
  },
  {
   "cell_type": "code",
   "execution_count": 321,
   "metadata": {},
   "outputs": [
    {
     "name": "stdout",
     "output_type": "stream",
     "text": [
      "<class 'pandas.core.frame.DataFrame'>\n",
      "Int64Index: 23490 entries, 0 to 23489\n",
      "Data columns (total 2 columns):\n",
      "employee_id    23490 non-null int64\n",
      "is_promoted    23490 non-null int32\n",
      "dtypes: int32(1), int64(1)\n",
      "memory usage: 458.8 KB\n"
     ]
    }
   ],
   "source": [
    "testdf_lgbm.info()"
   ]
  },
  {
   "cell_type": "code",
   "execution_count": 323,
   "metadata": {},
   "outputs": [],
   "source": [
    "testdf_lgbm.to_csv('lgbm.csv',index=False)"
   ]
  },
  {
   "cell_type": "code",
   "execution_count": null,
   "metadata": {},
   "outputs": [],
   "source": []
  },
  {
   "cell_type": "code",
   "execution_count": 324,
   "metadata": {},
   "outputs": [
    {
     "data": {
      "text/plain": [
       "LGBMClassifier(boosting_type='gbdt', class_weight=None, colsample_bytree=1.0,\n",
       "        importance_type='split', learning_rate=0.1, max_depth=-1,\n",
       "        min_child_samples=20, min_child_weight=0.001, min_split_gain=0.0,\n",
       "        n_estimators=100, n_jobs=-1, num_leaves=31, objective=None,\n",
       "        random_state=None, reg_alpha=0.0, reg_lambda=0.0, silent=True,\n",
       "        subsample=1.0, subsample_for_bin=200000, subsample_freq=0)"
      ]
     },
     "execution_count": 324,
     "metadata": {},
     "output_type": "execute_result"
    }
   ],
   "source": [
    "lgbm=LGBMClassifier()\n",
    "lgbm.fit(X_train,y_train)"
   ]
  },
  {
   "cell_type": "code",
   "execution_count": 325,
   "metadata": {},
   "outputs": [],
   "source": [
    "train_pred_lgbm1 = lgbm.predict(X_train)\n",
    "test_pred_lgbm1 = lgbm.predict(X_test)"
   ]
  },
  {
   "cell_type": "code",
   "execution_count": 326,
   "metadata": {},
   "outputs": [
    {
     "name": "stdout",
     "output_type": "stream",
     "text": [
      "              precision    recall  f1-score   support\n",
      "\n",
      "         0.0       0.94      1.00      0.97     15058\n",
      "         1.0       0.94      0.36      0.52      1385\n",
      "\n",
      "   micro avg       0.94      0.94      0.94     16443\n",
      "   macro avg       0.94      0.68      0.74     16443\n",
      "weighted avg       0.94      0.94      0.93     16443\n",
      "\n"
     ]
    }
   ],
   "source": [
    "from sklearn.metrics import classification_report,confusion_matrix,accuracy_score,auc,roc_curve\n",
    "print(classification_report(y_test,test_pred_lgbm1))"
   ]
  },
  {
   "cell_type": "code",
   "execution_count": 327,
   "metadata": {},
   "outputs": [
    {
     "name": "stdout",
     "output_type": "stream",
     "text": [
      "Train Accuracy = 0.9439332725140102\n",
      "Train TNR = 0.9990023373809931\n",
      "Train TPR = 0.3554675601583917\n"
     ]
    }
   ],
   "source": [
    "confusion_matrix_test_lgbm1 = confusion_matrix(y_test,test_pred_lgbm1)\n",
    "confusion_matrix_train_lgbm1 = confusion_matrix(y_train,train_pred_lgbm1)\n",
    "\n",
    "accuracy_train_lgbm1= (confusion_matrix_train_lgbm1[0,0]+confusion_matrix_train_lgbm1[1,1])/confusion_matrix_train_lgbm1.sum()\n",
    "tnr_train_lgbm1= confusion_matrix_train_lgbm1[0,0]/(confusion_matrix_train_lgbm1[0,0]+confusion_matrix_train_lgbm1[0,1])\n",
    "tpr_train_lgbm1= confusion_matrix_train_lgbm1[1,1]/(confusion_matrix_train_lgbm1[1,0]+confusion_matrix_train_lgbm1[1,1])\n",
    "\n",
    "print('Train Accuracy =', accuracy_train_lgbm1)\n",
    "print('Train TNR =', tnr_train_lgbm1)\n",
    "print('Train TPR =', tpr_train_lgbm1)"
   ]
  },
  {
   "cell_type": "code",
   "execution_count": 328,
   "metadata": {},
   "outputs": [
    {
     "name": "stdout",
     "output_type": "stream",
     "text": [
      "\n",
      "Test Accuracy = 0.9439883232986681\n",
      "Test TNR = 0.9980741134280781\n",
      "Test TPR = 0.355956678700361\n"
     ]
    }
   ],
   "source": [
    "accuracy_test_lgbm1= (confusion_matrix_test_lgbm1[0,0]+confusion_matrix_test_lgbm1[1,1])/confusion_matrix_test_lgbm1.sum()\n",
    "tnr_test_lgbm1= confusion_matrix_test_lgbm1[0,0]/(confusion_matrix_test_lgbm1[0,0]+confusion_matrix_test_lgbm1[0,1])\n",
    "tpr_test_lgbm1= confusion_matrix_test_lgbm1[1,1]/(confusion_matrix_test_lgbm1[1,0]+confusion_matrix_test_lgbm1[1,1])\n",
    "\n",
    "print('\\nTest Accuracy =', accuracy_test_lgbm1)\n",
    "print('Test TNR =', tnr_test_lgbm1)\n",
    "print('Test TPR =', tpr_test_lgbm1)"
   ]
  },
  {
   "cell_type": "code",
   "execution_count": 330,
   "metadata": {},
   "outputs": [],
   "source": [
    "test_pred_prob_lgbm1 = lgbm.predict_proba(X_test)\n",
    "test_pred_prob_lgbm1 = test_pred_prob_lgbm1[:,1]"
   ]
  },
  {
   "cell_type": "code",
   "execution_count": 331,
   "metadata": {},
   "outputs": [
    {
     "name": "stdout",
     "output_type": "stream",
     "text": [
      "ROC Area under curve = 0.9124057495134338\n"
     ]
    }
   ],
   "source": [
    "fpr_lgbm1,tpr_lgbm1,thresh_lgbm1 = roc_curve(y_test,test_pred_prob_lgbm1)\n",
    "roc_auc_lgbm1 = auc(fpr_lgbm1, tpr_lgbm1)\n",
    "print('ROC Area under curve =', roc_auc_lgbm1)"
   ]
  },
  {
   "cell_type": "code",
   "execution_count": 332,
   "metadata": {},
   "outputs": [
    {
     "data": {
      "image/png": "[encoded data removed]",
      "text/plain": [
       "<Figure size 432x288 with 1 Axes>"
      ]
     },
     "metadata": {},
     "output_type": "display_data"
    }
   ],
   "source": [
    "plt.figure()\n",
    "lw = 2\n",
    "plt.plot(fpr_lgbm1,tpr_lgbm1,color='darkorange',lw=lw,label='ROC Curve (area = %0.2f)'%roc_auc_lgbm1)\n",
    "plt.plot([0,1],[0,1],color='navy',lw=lw,linestyle='--')\n",
    "plt.xlim([0.0, 1.0])\n",
    "\n",
    "plt.ylim([0.0, 1.05])\n",
    "plt.xlabel('FPR')\n",
    "plt.ylabel('TPR')\n",
    "plt.title('ROC Curve')\n",
    "plt.legend()\n",
    "plt.show()"
   ]
  },
  {
   "cell_type": "code",
   "execution_count": 333,
   "metadata": {},
   "outputs": [],
   "source": [
    "Test_pred_lgbm1=lgbm.predict(Test)\n",
    "\n",
    "testdf_lgbm1=pd.DataFrame({'employee_id':testid,'is_promoted':Test_pred_lgbm1})"
   ]
  },
  {
   "cell_type": "code",
   "execution_count": 334,
   "metadata": {},
   "outputs": [
    {
     "name": "stdout",
     "output_type": "stream",
     "text": [
      "<class 'pandas.core.frame.DataFrame'>\n",
      "Int64Index: 23490 entries, 0 to 23489\n",
      "Data columns (total 2 columns):\n",
      "employee_id    23490 non-null int64\n",
      "is_promoted    23490 non-null float64\n",
      "dtypes: float64(1), int64(1)\n",
      "memory usage: 550.5 KB\n"
     ]
    }
   ],
   "source": [
    "testdf_lgbm1.info()"
   ]
  },
  {
   "cell_type": "code",
   "execution_count": 335,
   "metadata": {},
   "outputs": [],
   "source": [
    "testdf_lgbm1['is_promoted']=testdf_lgbm1.is_promoted.astype(int)"
   ]
  },
  {
   "cell_type": "code",
   "execution_count": 336,
   "metadata": {},
   "outputs": [
    {
     "name": "stdout",
     "output_type": "stream",
     "text": [
      "<class 'pandas.core.frame.DataFrame'>\n",
      "Int64Index: 23490 entries, 0 to 23489\n",
      "Data columns (total 2 columns):\n",
      "employee_id    23490 non-null int64\n",
      "is_promoted    23490 non-null int32\n",
      "dtypes: int32(1), int64(1)\n",
      "memory usage: 458.8 KB\n"
     ]
    }
   ],
   "source": [
    "testdf_lgbm1.info()"
   ]
  },
  {
   "cell_type": "code",
   "execution_count": 337,
   "metadata": {},
   "outputs": [],
   "source": [
    "testdf_lgbm.to_csv('lgbm1.csv',index=False)"
   ]
  },
  {
   "cell_type": "code",
   "execution_count": null,
   "metadata": {},
   "outputs": [],
   "source": []
  }
 ],
 "metadata": {
  "kernelspec": {
   "display_name": "Python 3",
   "language": "python",
   "name": "python3"
  },
  "language_info": {
   "codemirror_mode": {
    "name": "ipython",
    "version": 3
   },
   "file_extension": ".py",
   "mimetype": "text/x-python",
   "name": "python",
   "nbconvert_exporter": "python",
   "pygments_lexer": "ipython3",
   "version": "3.7.3"
  }
 },
 "nbformat": 4,
 "nbformat_minor": 2
}
